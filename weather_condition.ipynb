{
 "cells": [
  {
   "cell_type": "code",
   "execution_count": 8,
   "metadata": {},
   "outputs": [],
   "source": [
    "from meteostat import Point, Daily\n",
    "from datetime import datetime\n",
    "import matplotlib.pyplot as plt"
   ]
  },
  {
   "cell_type": "code",
   "execution_count": 9,
   "metadata": {},
   "outputs": [
    {
     "name": "stdout",
     "output_type": "stream",
     "text": [
      "Requirement already satisfied: meteostat in /home/turkai/anaconda3/envs/pythonProject2/lib/python3.9/site-packages (1.5.10)\n",
      "Requirement already satisfied: pandas>=1.1 in /home/turkai/anaconda3/envs/pythonProject2/lib/python3.9/site-packages (from meteostat) (1.3.4)\n",
      "Requirement already satisfied: numpy in /home/turkai/anaconda3/envs/pythonProject2/lib/python3.9/site-packages (from meteostat) (1.21.2)\n",
      "Requirement already satisfied: pytz in /home/turkai/anaconda3/envs/pythonProject2/lib/python3.9/site-packages (from meteostat) (2021.3)\n",
      "Requirement already satisfied: python-dateutil>=2.7.3 in /home/turkai/anaconda3/envs/pythonProject2/lib/python3.9/site-packages (from pandas>=1.1->meteostat) (2.8.2)\n",
      "Requirement already satisfied: six>=1.5 in /home/turkai/anaconda3/envs/pythonProject2/lib/python3.9/site-packages (from python-dateutil>=2.7.3->pandas>=1.1->meteostat) (1.16.0)\n",
      "Note: you may need to restart the kernel to use updated packages.\n"
     ]
    }
   ],
   "source": [
    "pip install meteostat"
   ]
  },
  {
   "cell_type": "code",
   "execution_count": 10,
   "metadata": {},
   "outputs": [],
   "source": [
    "location_point = Point(34.0194,-118.4, 118)\n",
    "start=datetime(2020,11,1)\n",
    "end=datetime(2020,11,30)\n",
    "data=Daily(location_point, start, end)\n",
    "data=data.fetch()"
   ]
  },
  {
   "cell_type": "code",
   "execution_count": 13,
   "metadata": {},
   "outputs": [
    {
     "name": "stdout",
     "output_type": "stream",
     "text": [
      "            tavg  tmin  tmax  prcp  snow   wdir  wspd  wpgt    pres  tsun\n",
      "time                                                                     \n",
      "2020-11-01  19.4  13.5  27.9   0.0   0.0  306.4   1.6   NaN  1017.7   NaN\n",
      "2020-11-02  17.8  14.0  24.0   0.0   0.0  201.8   1.5   NaN  1017.7   NaN\n",
      "2020-11-03  17.8  15.2  24.6   0.0   0.0  359.2   0.5   NaN  1016.3   NaN\n",
      "2020-11-04  19.1  13.5  26.8   0.0   0.0  326.0   1.6   NaN  1017.3   NaN\n",
      "2020-11-05  22.7  15.2  31.8   0.0   0.0   60.5   1.2   NaN  1013.2   NaN\n",
      "2020-11-06  18.7  13.6  23.6   0.0   0.0  205.1   4.0   NaN  1006.5   NaN\n",
      "2020-11-07  13.6  11.8  15.7   2.5   0.0  269.2   4.5   NaN  1007.2   NaN\n",
      "2020-11-08  12.8   9.6  15.7   0.0   0.0  286.0   6.3   NaN  1009.7   NaN\n",
      "2020-11-09  12.1   7.9  16.8   0.0   0.0  325.2   1.8   NaN  1017.7   NaN\n",
      "2020-11-10  12.9   8.5  18.5   0.0   0.0  346.5   2.6   NaN  1019.4   NaN\n",
      "2020-11-11  13.6   8.5  19.0   0.0   0.0  109.3   1.7   NaN  1016.1   NaN\n",
      "2020-11-12  14.0   8.5  20.7   0.0   0.0  313.0   1.3   NaN  1016.5   NaN\n",
      "2020-11-13  14.0   9.0  19.6   0.0   0.0  290.2  10.1   NaN  1018.8   NaN\n",
      "2020-11-14  14.8  10.2  19.0   0.0   0.0  354.1   3.0   NaN  1019.2   NaN\n",
      "2020-11-15  16.3  10.1  27.3   0.0   0.0   27.5   6.8   NaN  1018.4   NaN\n",
      "2020-11-16  22.2  15.7  31.8   0.0   0.0   52.4   3.5   NaN  1015.0   NaN\n",
      "2020-11-17  17.5  12.4  25.7   0.0   0.0  169.5   1.2   NaN  1016.7   NaN\n",
      "2020-11-18  15.0  12.4  19.0   0.0   0.0  260.5   1.8   NaN  1018.6   NaN\n",
      "2020-11-19  15.3  12.4  19.6   0.0   0.0  288.3   2.1   NaN  1019.5   NaN\n",
      "2020-11-20  15.8  10.7  22.9   0.0   0.0  354.8   0.6   NaN  1018.3   NaN\n",
      "2020-11-21  16.5  10.7  24.6   0.0   0.0  152.6   1.3   NaN  1017.2   NaN\n",
      "2020-11-22  15.7  10.7  22.4   0.0   0.0    2.7   0.7   NaN  1013.4   NaN\n",
      "2020-11-23  13.7  11.3  17.9   0.0   0.0   86.6   1.4   NaN  1012.3   NaN\n",
      "2020-11-24  14.8  10.7  20.2   0.0   0.0  354.8   0.5   NaN  1017.1   NaN\n",
      "2020-11-25  13.8   9.6  18.5   0.0   0.0  121.3   8.6   NaN  1018.7   NaN\n",
      "2020-11-26  14.3  10.7  20.2   0.0   0.0   21.0   1.2   NaN  1017.4   NaN\n",
      "2020-11-27  12.8   6.8  19.6   0.0   0.0  319.0   1.9   NaN  1020.5   NaN\n",
      "2020-11-28  14.7   8.5  22.9   0.0   0.0  359.8   2.5   NaN  1020.5   NaN\n",
      "2020-11-29  15.7  10.2  24.0   0.0   0.0  359.2   2.6   NaN  1018.9   NaN\n",
      "2020-11-30  16.9  11.3  25.7   0.0   0.0  341.9   2.2   NaN  1019.1   NaN\n"
     ]
    }
   ],
   "source": [
    "liste= list(\"data\")\n",
    "print(data)"
   ]
  },
  {
   "cell_type": "code",
   "execution_count": null,
   "metadata": {},
   "outputs": [],
   "source": []
  }
 ],
 "metadata": {
  "interpreter": {
   "hash": "fc07205f9a95994a77b5fe0520760f8c68c14dc7715e777eee2165ab9259f13f"
  },
  "kernelspec": {
   "display_name": "Python 3.9.7 64-bit ('pythonProject2': conda)",
   "language": "python",
   "name": "python3"
  },
  "language_info": {
   "codemirror_mode": {
    "name": "ipython",
    "version": 3
   },
   "file_extension": ".py",
   "mimetype": "text/x-python",
   "name": "python",
   "nbconvert_exporter": "python",
   "pygments_lexer": "ipython3",
   "version": "3.9.7"
  },
  "orig_nbformat": 4
 },
 "nbformat": 4,
 "nbformat_minor": 2
}
