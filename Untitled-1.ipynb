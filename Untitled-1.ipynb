{
 "cells": [
  {
   "cell_type": "code",
   "execution_count": 2,
   "metadata": {},
   "outputs": [],
   "source": [
    "import pandas as pd\n",
    "import numpy as np\n",
    "\n",
    "from math import *\n",
    "from decimal import Decimal\n",
    "from sklearn.cluster import KMeans\n",
    "\n",
    "\n",
    "from sklearn.cluster import OPTICS, cluster_optics_dbscan\n",
    "import matplotlib.gridspec as gridspec\n",
    "import matplotlib.pyplot as plt\n",
    "import geopandas as gpd \n",
    "from shapely.geometry import LineString,Point\n",
    "from itertools import combinations \n",
    "from collections import defaultdict\n",
    "\n",
    "from shapely.geometry import Point\n",
    "\n",
    "\n",
    "import osmnx as ox\n",
    "import networkx as nx\n",
    "import matplotlib.cm as cm\n",
    "import matplotlib.colors as colors\n",
    "from matplotlib.lines import Line2D\n",
    "import requests as rq\n",
    "\n",
    "\n"
   ]
  },
  {
   "cell_type": "code",
   "execution_count": 2,
   "metadata": {},
   "outputs": [],
   "source": [
    "ac=pd.read_csv(\"US_Accidents_Dec20_updated.csv\")"
   ]
  },
  {
   "cell_type": "code",
   "execution_count": 28,
   "metadata": {},
   "outputs": [
    {
     "data": {
      "text/plain": [
       "Index(['ID', 'Severity', 'Start_Time', 'End_Time', 'Start_Lat', 'Start_Lng',\n",
       "       'End_Lat', 'End_Lng', 'Distance(mi)', 'Description', 'Number', 'Street',\n",
       "       'Side', 'City', 'County', 'State', 'Zipcode', 'Country', 'Timezone',\n",
       "       'Airport_Code', 'Weather_Timestamp', 'Temperature(F)', 'Wind_Chill(F)',\n",
       "       'Humidity(%)', 'Pressure(in)', 'Visibility(mi)', 'Wind_Direction',\n",
       "       'Wind_Speed(mph)', 'Precipitation(in)', 'Weather_Condition', 'Amenity',\n",
       "       'Bump', 'Crossing', 'Give_Way', 'Junction', 'No_Exit', 'Railway',\n",
       "       'Roundabout', 'Station', 'Stop', 'Traffic_Calming', 'Traffic_Signal',\n",
       "       'Turning_Loop', 'Sunrise_Sunset', 'Civil_Twilight', 'Nautical_Twilight',\n",
       "       'Astronomical_Twilight'],\n",
       "      dtype='object')"
      ]
     },
     "execution_count": 28,
     "metadata": {},
     "output_type": "execute_result"
    }
   ],
   "source": [
    "ac.columns"
   ]
  },
  {
   "cell_type": "code",
   "execution_count": 29,
   "metadata": {},
   "outputs": [
    {
     "data": {
      "text/html": [
       "<div>\n",
       "<style scoped>\n",
       "    .dataframe tbody tr th:only-of-type {\n",
       "        vertical-align: middle;\n",
       "    }\n",
       "\n",
       "    .dataframe tbody tr th {\n",
       "        vertical-align: top;\n",
       "    }\n",
       "\n",
       "    .dataframe thead th {\n",
       "        text-align: right;\n",
       "    }\n",
       "</style>\n",
       "<table border=\"1\" class=\"dataframe\">\n",
       "  <thead>\n",
       "    <tr style=\"text-align: right;\">\n",
       "      <th></th>\n",
       "      <th>Start_Lat</th>\n",
       "      <th>Start_Lng</th>\n",
       "      <th>City</th>\n",
       "    </tr>\n",
       "  </thead>\n",
       "  <tbody>\n",
       "    <tr>\n",
       "      <th>0</th>\n",
       "      <td>40.10891</td>\n",
       "      <td>-83.09286</td>\n",
       "      <td>Dublin</td>\n",
       "    </tr>\n",
       "    <tr>\n",
       "      <th>1</th>\n",
       "      <td>39.86542</td>\n",
       "      <td>-84.0628</td>\n",
       "      <td>Dayton</td>\n",
       "    </tr>\n",
       "    <tr>\n",
       "      <th>2</th>\n",
       "      <td>39.10266</td>\n",
       "      <td>-84.52468</td>\n",
       "      <td>Cincinnati</td>\n",
       "    </tr>\n",
       "    <tr>\n",
       "      <th>3</th>\n",
       "      <td>39.10148</td>\n",
       "      <td>-84.52341</td>\n",
       "      <td>Cincinnati</td>\n",
       "    </tr>\n",
       "    <tr>\n",
       "      <th>4</th>\n",
       "      <td>41.06213</td>\n",
       "      <td>-81.53784</td>\n",
       "      <td>Akron</td>\n",
       "    </tr>\n",
       "    <tr>\n",
       "      <th>...</th>\n",
       "      <td>...</td>\n",
       "      <td>...</td>\n",
       "      <td>...</td>\n",
       "    </tr>\n",
       "    <tr>\n",
       "      <th>1516059</th>\n",
       "      <td>34.00248</td>\n",
       "      <td>-117.37936</td>\n",
       "      <td>Riverside</td>\n",
       "    </tr>\n",
       "    <tr>\n",
       "      <th>1516060</th>\n",
       "      <td>32.76696</td>\n",
       "      <td>-117.14806</td>\n",
       "      <td>San Diego</td>\n",
       "    </tr>\n",
       "    <tr>\n",
       "      <th>1516061</th>\n",
       "      <td>33.77545</td>\n",
       "      <td>-117.84779</td>\n",
       "      <td>Orange</td>\n",
       "    </tr>\n",
       "    <tr>\n",
       "      <th>1516062</th>\n",
       "      <td>33.99246</td>\n",
       "      <td>-118.40302</td>\n",
       "      <td>Culver City</td>\n",
       "    </tr>\n",
       "    <tr>\n",
       "      <th>1516063</th>\n",
       "      <td>34.13393</td>\n",
       "      <td>-117.23092</td>\n",
       "      <td>Highland</td>\n",
       "    </tr>\n",
       "  </tbody>\n",
       "</table>\n",
       "<p>1516064 rows × 3 columns</p>\n",
       "</div>"
      ],
      "text/plain": [
       "        Start_Lat  Start_Lng         City\n",
       "0        40.10891  -83.09286       Dublin\n",
       "1        39.86542   -84.0628       Dayton\n",
       "2        39.10266  -84.52468   Cincinnati\n",
       "3        39.10148  -84.52341   Cincinnati\n",
       "4        41.06213  -81.53784        Akron\n",
       "...           ...        ...          ...\n",
       "1516059  34.00248 -117.37936    Riverside\n",
       "1516060  32.76696 -117.14806    San Diego\n",
       "1516061  33.77545 -117.84779       Orange\n",
       "1516062  33.99246 -118.40302  Culver City\n",
       "1516063  34.13393 -117.23092     Highland\n",
       "\n",
       "[1516064 rows x 3 columns]"
      ]
     },
     "execution_count": 29,
     "metadata": {},
     "output_type": "execute_result"
    }
   ],
   "source": [
    "loc=ac[[\"Start_Lat\",\"Start_Lng\",\"City\"]]\n",
    "loc.dtypes\n",
    "loc"
   ]
  },
  {
   "cell_type": "code",
   "execution_count": 30,
   "metadata": {},
   "outputs": [
    {
     "data": {
      "text/html": [
       "<div>\n",
       "<style scoped>\n",
       "    .dataframe tbody tr th:only-of-type {\n",
       "        vertical-align: middle;\n",
       "    }\n",
       "\n",
       "    .dataframe tbody tr th {\n",
       "        vertical-align: top;\n",
       "    }\n",
       "\n",
       "    .dataframe thead th {\n",
       "        text-align: right;\n",
       "    }\n",
       "</style>\n",
       "<table border=\"1\" class=\"dataframe\">\n",
       "  <thead>\n",
       "    <tr style=\"text-align: right;\">\n",
       "      <th></th>\n",
       "      <th>Start_Lat</th>\n",
       "      <th>Start_Lng</th>\n",
       "      <th>City</th>\n",
       "    </tr>\n",
       "  </thead>\n",
       "  <tbody>\n",
       "    <tr>\n",
       "      <th>5360</th>\n",
       "      <td>34.09256</td>\n",
       "      <td>-118.20622</td>\n",
       "      <td>Los Angeles</td>\n",
       "    </tr>\n",
       "    <tr>\n",
       "      <th>5364</th>\n",
       "      <td>33.94819</td>\n",
       "      <td>-118.27973</td>\n",
       "      <td>Los Angeles</td>\n",
       "    </tr>\n",
       "    <tr>\n",
       "      <th>5379</th>\n",
       "      <td>34.0233</td>\n",
       "      <td>-118.17288</td>\n",
       "      <td>Los Angeles</td>\n",
       "    </tr>\n",
       "    <tr>\n",
       "      <th>5397</th>\n",
       "      <td>34.1447</td>\n",
       "      <td>-118.27865</td>\n",
       "      <td>Los Angeles</td>\n",
       "    </tr>\n",
       "    <tr>\n",
       "      <th>5399</th>\n",
       "      <td>34.09914</td>\n",
       "      <td>-118.251853</td>\n",
       "      <td>Los Angeles</td>\n",
       "    </tr>\n",
       "    <tr>\n",
       "      <th>...</th>\n",
       "      <td>...</td>\n",
       "      <td>...</td>\n",
       "      <td>...</td>\n",
       "    </tr>\n",
       "    <tr>\n",
       "      <th>1515619</th>\n",
       "      <td>34.03693</td>\n",
       "      <td>-118.43877</td>\n",
       "      <td>Los Angeles</td>\n",
       "    </tr>\n",
       "    <tr>\n",
       "      <th>1516027</th>\n",
       "      <td>34.07579</td>\n",
       "      <td>-118.27668</td>\n",
       "      <td>Los Angeles</td>\n",
       "    </tr>\n",
       "    <tr>\n",
       "      <th>1516031</th>\n",
       "      <td>34.02379</td>\n",
       "      <td>-118.27639</td>\n",
       "      <td>Los Angeles</td>\n",
       "    </tr>\n",
       "    <tr>\n",
       "      <th>1516034</th>\n",
       "      <td>34.07061</td>\n",
       "      <td>-118.26391</td>\n",
       "      <td>Los Angeles</td>\n",
       "    </tr>\n",
       "    <tr>\n",
       "      <th>1516046</th>\n",
       "      <td>34.04365</td>\n",
       "      <td>-118.44373</td>\n",
       "      <td>Los Angeles</td>\n",
       "    </tr>\n",
       "  </tbody>\n",
       "</table>\n",
       "<p>39984 rows × 3 columns</p>\n",
       "</div>"
      ],
      "text/plain": [
       "        Start_Lat    Start_Lng         City\n",
       "5360     34.09256   -118.20622  Los Angeles\n",
       "5364     33.94819   -118.27973  Los Angeles\n",
       "5379      34.0233   -118.17288  Los Angeles\n",
       "5397      34.1447   -118.27865  Los Angeles\n",
       "5399     34.09914  -118.251853  Los Angeles\n",
       "...           ...          ...          ...\n",
       "1515619  34.03693   -118.43877  Los Angeles\n",
       "1516027  34.07579   -118.27668  Los Angeles\n",
       "1516031  34.02379   -118.27639  Los Angeles\n",
       "1516034  34.07061   -118.26391  Los Angeles\n",
       "1516046  34.04365   -118.44373  Los Angeles\n",
       "\n",
       "[39984 rows x 3 columns]"
      ]
     },
     "execution_count": 30,
     "metadata": {},
     "output_type": "execute_result"
    }
   ],
   "source": [
    "loc_1= loc[loc[\"City\"]==\"Los Angeles\"]\n",
    "loc_1"
   ]
  },
  {
   "cell_type": "code",
   "execution_count": 31,
   "metadata": {},
   "outputs": [
    {
     "data": {
      "text/html": [
       "<div>\n",
       "<style scoped>\n",
       "    .dataframe tbody tr th:only-of-type {\n",
       "        vertical-align: middle;\n",
       "    }\n",
       "\n",
       "    .dataframe tbody tr th {\n",
       "        vertical-align: top;\n",
       "    }\n",
       "\n",
       "    .dataframe thead th {\n",
       "        text-align: right;\n",
       "    }\n",
       "</style>\n",
       "<table border=\"1\" class=\"dataframe\">\n",
       "  <thead>\n",
       "    <tr style=\"text-align: right;\">\n",
       "      <th></th>\n",
       "      <th>index</th>\n",
       "      <th>Start_Lat</th>\n",
       "      <th>Start_Lng</th>\n",
       "      <th>City</th>\n",
       "    </tr>\n",
       "  </thead>\n",
       "  <tbody>\n",
       "    <tr>\n",
       "      <th>0</th>\n",
       "      <td>5360</td>\n",
       "      <td>34.09256</td>\n",
       "      <td>-118.20622</td>\n",
       "      <td>Los Angeles</td>\n",
       "    </tr>\n",
       "    <tr>\n",
       "      <th>1</th>\n",
       "      <td>5364</td>\n",
       "      <td>33.94819</td>\n",
       "      <td>-118.27973</td>\n",
       "      <td>Los Angeles</td>\n",
       "    </tr>\n",
       "    <tr>\n",
       "      <th>2</th>\n",
       "      <td>5379</td>\n",
       "      <td>34.0233</td>\n",
       "      <td>-118.17288</td>\n",
       "      <td>Los Angeles</td>\n",
       "    </tr>\n",
       "    <tr>\n",
       "      <th>3</th>\n",
       "      <td>5397</td>\n",
       "      <td>34.1447</td>\n",
       "      <td>-118.27865</td>\n",
       "      <td>Los Angeles</td>\n",
       "    </tr>\n",
       "    <tr>\n",
       "      <th>4</th>\n",
       "      <td>5399</td>\n",
       "      <td>34.09914</td>\n",
       "      <td>-118.251853</td>\n",
       "      <td>Los Angeles</td>\n",
       "    </tr>\n",
       "    <tr>\n",
       "      <th>...</th>\n",
       "      <td>...</td>\n",
       "      <td>...</td>\n",
       "      <td>...</td>\n",
       "      <td>...</td>\n",
       "    </tr>\n",
       "    <tr>\n",
       "      <th>39979</th>\n",
       "      <td>1515619</td>\n",
       "      <td>34.03693</td>\n",
       "      <td>-118.43877</td>\n",
       "      <td>Los Angeles</td>\n",
       "    </tr>\n",
       "    <tr>\n",
       "      <th>39980</th>\n",
       "      <td>1516027</td>\n",
       "      <td>34.07579</td>\n",
       "      <td>-118.27668</td>\n",
       "      <td>Los Angeles</td>\n",
       "    </tr>\n",
       "    <tr>\n",
       "      <th>39981</th>\n",
       "      <td>1516031</td>\n",
       "      <td>34.02379</td>\n",
       "      <td>-118.27639</td>\n",
       "      <td>Los Angeles</td>\n",
       "    </tr>\n",
       "    <tr>\n",
       "      <th>39982</th>\n",
       "      <td>1516034</td>\n",
       "      <td>34.07061</td>\n",
       "      <td>-118.26391</td>\n",
       "      <td>Los Angeles</td>\n",
       "    </tr>\n",
       "    <tr>\n",
       "      <th>39983</th>\n",
       "      <td>1516046</td>\n",
       "      <td>34.04365</td>\n",
       "      <td>-118.44373</td>\n",
       "      <td>Los Angeles</td>\n",
       "    </tr>\n",
       "  </tbody>\n",
       "</table>\n",
       "<p>39984 rows × 4 columns</p>\n",
       "</div>"
      ],
      "text/plain": [
       "         index Start_Lat    Start_Lng         City\n",
       "0         5360  34.09256   -118.20622  Los Angeles\n",
       "1         5364  33.94819   -118.27973  Los Angeles\n",
       "2         5379   34.0233   -118.17288  Los Angeles\n",
       "3         5397   34.1447   -118.27865  Los Angeles\n",
       "4         5399  34.09914  -118.251853  Los Angeles\n",
       "...        ...       ...          ...          ...\n",
       "39979  1515619  34.03693   -118.43877  Los Angeles\n",
       "39980  1516027  34.07579   -118.27668  Los Angeles\n",
       "39981  1516031  34.02379   -118.27639  Los Angeles\n",
       "39982  1516034  34.07061   -118.26391  Los Angeles\n",
       "39983  1516046  34.04365   -118.44373  Los Angeles\n",
       "\n",
       "[39984 rows x 4 columns]"
      ]
     },
     "execution_count": 31,
     "metadata": {},
     "output_type": "execute_result"
    }
   ],
   "source": [
    "loc_1= loc_1.reset_index()\n",
    "loc_1"
   ]
  },
  {
   "cell_type": "code",
   "execution_count": 32,
   "metadata": {},
   "outputs": [
    {
     "data": {
      "text/plain": [
       "pandas.core.frame.DataFrame"
      ]
     },
     "execution_count": 32,
     "metadata": {},
     "output_type": "execute_result"
    }
   ],
   "source": [
    "type(loc_1)"
   ]
  },
  {
   "cell_type": "code",
   "execution_count": 33,
   "metadata": {},
   "outputs": [],
   "source": [
    "bas_son=pd.DataFrame({'baslangic':loc_1['Start_Lat'],\n",
    "                       'son':loc_1[\"Start_Lng\"]\n",
    "\n",
    "})\n",
    "bas_son.dtypes\n",
    "\n",
    "don_a=bas_son[\"baslangic\"].to_numpy()\n",
    "don_b=bas_son[\"baslangic\"].to_numpy()\n",
    "don_c=bas_son.to_numpy()"
   ]
  },
  {
   "cell_type": "code",
   "execution_count": 34,
   "metadata": {},
   "outputs": [
    {
     "data": {
      "text/html": [
       "<div>\n",
       "<style scoped>\n",
       "    .dataframe tbody tr th:only-of-type {\n",
       "        vertical-align: middle;\n",
       "    }\n",
       "\n",
       "    .dataframe tbody tr th {\n",
       "        vertical-align: top;\n",
       "    }\n",
       "\n",
       "    .dataframe thead th {\n",
       "        text-align: right;\n",
       "    }\n",
       "</style>\n",
       "<table border=\"1\" class=\"dataframe\">\n",
       "  <thead>\n",
       "    <tr style=\"text-align: right;\">\n",
       "      <th></th>\n",
       "      <th>baslangic</th>\n",
       "      <th>son</th>\n",
       "    </tr>\n",
       "  </thead>\n",
       "  <tbody>\n",
       "    <tr>\n",
       "      <th>0</th>\n",
       "      <td>34.09256</td>\n",
       "      <td>-118.20622</td>\n",
       "    </tr>\n",
       "    <tr>\n",
       "      <th>1</th>\n",
       "      <td>33.94819</td>\n",
       "      <td>-118.27973</td>\n",
       "    </tr>\n",
       "    <tr>\n",
       "      <th>2</th>\n",
       "      <td>34.0233</td>\n",
       "      <td>-118.17288</td>\n",
       "    </tr>\n",
       "    <tr>\n",
       "      <th>3</th>\n",
       "      <td>34.1447</td>\n",
       "      <td>-118.27865</td>\n",
       "    </tr>\n",
       "    <tr>\n",
       "      <th>4</th>\n",
       "      <td>34.09914</td>\n",
       "      <td>-118.251853</td>\n",
       "    </tr>\n",
       "    <tr>\n",
       "      <th>...</th>\n",
       "      <td>...</td>\n",
       "      <td>...</td>\n",
       "    </tr>\n",
       "    <tr>\n",
       "      <th>39979</th>\n",
       "      <td>34.03693</td>\n",
       "      <td>-118.43877</td>\n",
       "    </tr>\n",
       "    <tr>\n",
       "      <th>39980</th>\n",
       "      <td>34.07579</td>\n",
       "      <td>-118.27668</td>\n",
       "    </tr>\n",
       "    <tr>\n",
       "      <th>39981</th>\n",
       "      <td>34.02379</td>\n",
       "      <td>-118.27639</td>\n",
       "    </tr>\n",
       "    <tr>\n",
       "      <th>39982</th>\n",
       "      <td>34.07061</td>\n",
       "      <td>-118.26391</td>\n",
       "    </tr>\n",
       "    <tr>\n",
       "      <th>39983</th>\n",
       "      <td>34.04365</td>\n",
       "      <td>-118.44373</td>\n",
       "    </tr>\n",
       "  </tbody>\n",
       "</table>\n",
       "<p>39984 rows × 2 columns</p>\n",
       "</div>"
      ],
      "text/plain": [
       "      baslangic          son\n",
       "0      34.09256   -118.20622\n",
       "1      33.94819   -118.27973\n",
       "2       34.0233   -118.17288\n",
       "3       34.1447   -118.27865\n",
       "4      34.09914  -118.251853\n",
       "...         ...          ...\n",
       "39979  34.03693   -118.43877\n",
       "39980  34.07579   -118.27668\n",
       "39981  34.02379   -118.27639\n",
       "39982  34.07061   -118.26391\n",
       "39983  34.04365   -118.44373\n",
       "\n",
       "[39984 rows x 2 columns]"
      ]
     },
     "execution_count": 34,
     "metadata": {},
     "output_type": "execute_result"
    }
   ],
   "source": [
    "bas_son"
   ]
  },
  {
   "cell_type": "code",
   "execution_count": 35,
   "metadata": {},
   "outputs": [
    {
     "name": "stdout",
     "output_type": "stream",
     "text": [
      "(39984,)\n",
      "(39984,)\n",
      "(39984, 2)\n"
     ]
    }
   ],
   "source": [
    "print(don_a.shape)\n",
    "print(don_b.shape)\n",
    "print(don_c.shape)\n"
   ]
  },
  {
   "cell_type": "code",
   "execution_count": 47,
   "metadata": {},
   "outputs": [
    {
     "ename": "TypeError",
     "evalue": "argument of type 'CRS' is not iterable",
     "output_type": "error",
     "traceback": [
      "\u001b[0;31m---------------------------------------------------------------------------\u001b[0m",
      "\u001b[0;31mTypeError\u001b[0m                                 Traceback (most recent call last)",
      "Input \u001b[0;32mIn [47]\u001b[0m, in \u001b[0;36m<module>\u001b[0;34m\u001b[0m\n\u001b[1;32m      1\u001b[0m get_ipython()\u001b[38;5;241m.\u001b[39mrun_line_magic(\u001b[38;5;124m'\u001b[39m\u001b[38;5;124mmatplotlib\u001b[39m\u001b[38;5;124m'\u001b[39m, \u001b[38;5;124m'\u001b[39m\u001b[38;5;124minline\u001b[39m\u001b[38;5;124m'\u001b[39m)\n\u001b[1;32m      2\u001b[0m place_name\u001b[38;5;241m=\u001b[39m(\u001b[38;5;124m\"\u001b[39m\u001b[38;5;124mLos Angeles, California\u001b[39m\u001b[38;5;124m\"\u001b[39m)\n\u001b[0;32m----> 3\u001b[0m graph \u001b[38;5;241m=\u001b[39m \u001b[43mox\u001b[49m\u001b[38;5;241;43m.\u001b[39;49m\u001b[43mgraph_from_place\u001b[49m\u001b[43m(\u001b[49m\u001b[43mplace_name\u001b[49m\u001b[43m,\u001b[49m\u001b[43m \u001b[49m\u001b[43mnetwork_type\u001b[49m\u001b[38;5;241;43m=\u001b[39;49m\u001b[38;5;124;43m'\u001b[39;49m\u001b[38;5;124;43mdrive\u001b[39;49m\u001b[38;5;124;43m'\u001b[39;49m\u001b[43m)\u001b[49m\n\u001b[1;32m      4\u001b[0m fig, ax \u001b[38;5;241m=\u001b[39m ox\u001b[38;5;241m.\u001b[39mplot_graph(graph)\n\u001b[1;32m      5\u001b[0m area\u001b[38;5;241m=\u001b[39mox\u001b[38;5;241m.\u001b[39mgdf_from_place(place_name)\n",
      "File \u001b[0;32m~/anaconda3/envs/geo_env/lib/python3.10/site-packages/osmnx/core.py:1440\u001b[0m, in \u001b[0;36mgraph_from_place\u001b[0;34m(query, network_type, simplify, retain_all, truncate_by_edge, name, which_result, buffer_dist, timeout, memory, max_query_area_size, clean_periphery, infrastructure, custom_filter)\u001b[0m\n\u001b[1;32m   1437\u001b[0m log(\u001b[38;5;124m'\u001b[39m\u001b[38;5;124mConstructed place geometry polygon(s) to query API\u001b[39m\u001b[38;5;124m'\u001b[39m)\n\u001b[1;32m   1439\u001b[0m \u001b[38;5;66;03m# create graph using this polygon(s) geometry\u001b[39;00m\n\u001b[0;32m-> 1440\u001b[0m G \u001b[38;5;241m=\u001b[39m \u001b[43mgraph_from_polygon\u001b[49m\u001b[43m(\u001b[49m\u001b[43mpolygon\u001b[49m\u001b[43m,\u001b[49m\u001b[43m \u001b[49m\u001b[43mnetwork_type\u001b[49m\u001b[38;5;241;43m=\u001b[39;49m\u001b[43mnetwork_type\u001b[49m\u001b[43m,\u001b[49m\u001b[43m \u001b[49m\u001b[43msimplify\u001b[49m\u001b[38;5;241;43m=\u001b[39;49m\u001b[43msimplify\u001b[49m\u001b[43m,\u001b[49m\n\u001b[1;32m   1441\u001b[0m \u001b[43m                       \u001b[49m\u001b[43mretain_all\u001b[49m\u001b[38;5;241;43m=\u001b[39;49m\u001b[43mretain_all\u001b[49m\u001b[43m,\u001b[49m\u001b[43m \u001b[49m\u001b[43mtruncate_by_edge\u001b[49m\u001b[38;5;241;43m=\u001b[39;49m\u001b[43mtruncate_by_edge\u001b[49m\u001b[43m,\u001b[49m\n\u001b[1;32m   1442\u001b[0m \u001b[43m                       \u001b[49m\u001b[43mname\u001b[49m\u001b[38;5;241;43m=\u001b[39;49m\u001b[43mname\u001b[49m\u001b[43m,\u001b[49m\u001b[43m \u001b[49m\u001b[43mtimeout\u001b[49m\u001b[38;5;241;43m=\u001b[39;49m\u001b[43mtimeout\u001b[49m\u001b[43m,\u001b[49m\u001b[43m \u001b[49m\u001b[43mmemory\u001b[49m\u001b[38;5;241;43m=\u001b[39;49m\u001b[43mmemory\u001b[49m\u001b[43m,\u001b[49m\n\u001b[1;32m   1443\u001b[0m \u001b[43m                       \u001b[49m\u001b[43mmax_query_area_size\u001b[49m\u001b[38;5;241;43m=\u001b[39;49m\u001b[43mmax_query_area_size\u001b[49m\u001b[43m,\u001b[49m\n\u001b[1;32m   1444\u001b[0m \u001b[43m                       \u001b[49m\u001b[43mclean_periphery\u001b[49m\u001b[38;5;241;43m=\u001b[39;49m\u001b[43mclean_periphery\u001b[49m\u001b[43m,\u001b[49m\u001b[43m \u001b[49m\u001b[43minfrastructure\u001b[49m\u001b[38;5;241;43m=\u001b[39;49m\u001b[43minfrastructure\u001b[49m\u001b[43m,\u001b[49m\n\u001b[1;32m   1445\u001b[0m \u001b[43m                       \u001b[49m\u001b[43mcustom_filter\u001b[49m\u001b[38;5;241;43m=\u001b[39;49m\u001b[43mcustom_filter\u001b[49m\u001b[43m)\u001b[49m\n\u001b[1;32m   1447\u001b[0m log(\u001b[38;5;124m'\u001b[39m\u001b[38;5;124mgraph_from_place() returning graph with \u001b[39m\u001b[38;5;132;01m{:,}\u001b[39;00m\u001b[38;5;124m nodes and \u001b[39m\u001b[38;5;132;01m{:,}\u001b[39;00m\u001b[38;5;124m edges\u001b[39m\u001b[38;5;124m'\u001b[39m\u001b[38;5;241m.\u001b[39mformat(\u001b[38;5;28mlen\u001b[39m(\u001b[38;5;28mlist\u001b[39m(G\u001b[38;5;241m.\u001b[39mnodes())), \u001b[38;5;28mlen\u001b[39m(\u001b[38;5;28mlist\u001b[39m(G\u001b[38;5;241m.\u001b[39medges()))))\n\u001b[1;32m   1448\u001b[0m \u001b[38;5;28;01mreturn\u001b[39;00m G\n",
      "File \u001b[0;32m~/anaconda3/envs/geo_env/lib/python3.10/site-packages/osmnx/core.py:1309\u001b[0m, in \u001b[0;36mgraph_from_polygon\u001b[0;34m(polygon, network_type, simplify, retain_all, truncate_by_edge, name, timeout, memory, max_query_area_size, clean_periphery, infrastructure, custom_filter)\u001b[0m\n\u001b[1;32m   1306\u001b[0m \u001b[38;5;28;01mif\u001b[39;00m clean_periphery \u001b[38;5;129;01mand\u001b[39;00m simplify:\n\u001b[1;32m   1307\u001b[0m     \u001b[38;5;66;03m# create a new buffered polygon 0.5km around the desired one\u001b[39;00m\n\u001b[1;32m   1308\u001b[0m     buffer_dist \u001b[38;5;241m=\u001b[39m \u001b[38;5;241m500\u001b[39m\n\u001b[0;32m-> 1309\u001b[0m     polygon_utm, crs_utm \u001b[38;5;241m=\u001b[39m \u001b[43mproject_geometry\u001b[49m\u001b[43m(\u001b[49m\u001b[43mgeometry\u001b[49m\u001b[38;5;241;43m=\u001b[39;49m\u001b[43mpolygon\u001b[49m\u001b[43m)\u001b[49m\n\u001b[1;32m   1310\u001b[0m     polygon_proj_buff \u001b[38;5;241m=\u001b[39m polygon_utm\u001b[38;5;241m.\u001b[39mbuffer(buffer_dist)\n\u001b[1;32m   1311\u001b[0m     polygon_buffered, _ \u001b[38;5;241m=\u001b[39m project_geometry(geometry\u001b[38;5;241m=\u001b[39mpolygon_proj_buff, crs\u001b[38;5;241m=\u001b[39mcrs_utm, to_latlong\u001b[38;5;241m=\u001b[39m\u001b[38;5;28;01mTrue\u001b[39;00m)\n",
      "File \u001b[0;32m~/anaconda3/envs/geo_env/lib/python3.10/site-packages/osmnx/projection.py:51\u001b[0m, in \u001b[0;36mproject_geometry\u001b[0;34m(geometry, crs, to_crs, to_latlong)\u001b[0m\n\u001b[1;32m     49\u001b[0m gdf[\u001b[38;5;124m'\u001b[39m\u001b[38;5;124mgeometry\u001b[39m\u001b[38;5;124m'\u001b[39m] \u001b[38;5;241m=\u001b[39m \u001b[38;5;28;01mNone\u001b[39;00m\n\u001b[1;32m     50\u001b[0m gdf\u001b[38;5;241m.\u001b[39mloc[\u001b[38;5;241m0\u001b[39m, \u001b[38;5;124m'\u001b[39m\u001b[38;5;124mgeometry\u001b[39m\u001b[38;5;124m'\u001b[39m] \u001b[38;5;241m=\u001b[39m geometry\n\u001b[0;32m---> 51\u001b[0m gdf_proj \u001b[38;5;241m=\u001b[39m \u001b[43mproject_gdf\u001b[49m\u001b[43m(\u001b[49m\u001b[43mgdf\u001b[49m\u001b[43m,\u001b[49m\u001b[43m \u001b[49m\u001b[43mto_crs\u001b[49m\u001b[38;5;241;43m=\u001b[39;49m\u001b[43mto_crs\u001b[49m\u001b[43m,\u001b[49m\u001b[43m \u001b[49m\u001b[43mto_latlong\u001b[49m\u001b[38;5;241;43m=\u001b[39;49m\u001b[43mto_latlong\u001b[49m\u001b[43m)\u001b[49m\n\u001b[1;32m     52\u001b[0m geometry_proj \u001b[38;5;241m=\u001b[39m gdf_proj[\u001b[38;5;124m'\u001b[39m\u001b[38;5;124mgeometry\u001b[39m\u001b[38;5;124m'\u001b[39m]\u001b[38;5;241m.\u001b[39miloc[\u001b[38;5;241m0\u001b[39m]\n\u001b[1;32m     53\u001b[0m \u001b[38;5;28;01mreturn\u001b[39;00m geometry_proj, gdf_proj\u001b[38;5;241m.\u001b[39mcrs\n",
      "File \u001b[0;32m~/anaconda3/envs/geo_env/lib/python3.10/site-packages/osmnx/projection.py:100\u001b[0m, in \u001b[0;36mproject_gdf\u001b[0;34m(gdf, to_crs, to_latlong)\u001b[0m\n\u001b[1;32m     96\u001b[0m     log(\u001b[38;5;124m'\u001b[39m\u001b[38;5;124mProjected the GeoDataFrame \u001b[39m\u001b[38;5;124m\"\u001b[39m\u001b[38;5;132;01m{}\u001b[39;00m\u001b[38;5;124m\"\u001b[39m\u001b[38;5;124m to default_crs in \u001b[39m\u001b[38;5;132;01m{:,.2f}\u001b[39;00m\u001b[38;5;124m seconds\u001b[39m\u001b[38;5;124m'\u001b[39m\u001b[38;5;241m.\u001b[39mformat(gdf\u001b[38;5;241m.\u001b[39mgdf_name, time\u001b[38;5;241m.\u001b[39mtime()\u001b[38;5;241m-\u001b[39mstart_time))\n\u001b[1;32m     97\u001b[0m \u001b[38;5;28;01melse\u001b[39;00m:\n\u001b[1;32m     98\u001b[0m     \u001b[38;5;66;03m# else, project the gdf to UTM\u001b[39;00m\n\u001b[1;32m     99\u001b[0m     \u001b[38;5;66;03m# if GeoDataFrame is already in UTM, just return it\u001b[39;00m\n\u001b[0;32m--> 100\u001b[0m     \u001b[38;5;28;01mif\u001b[39;00m (gdf\u001b[38;5;241m.\u001b[39mcrs \u001b[38;5;129;01mis\u001b[39;00m \u001b[38;5;129;01mnot\u001b[39;00m \u001b[38;5;28;01mNone\u001b[39;00m) \u001b[38;5;129;01mand\u001b[39;00m (\u001b[38;5;124;43m'\u001b[39;49m\u001b[38;5;124;43m+proj=utm \u001b[39;49m\u001b[38;5;124;43m'\u001b[39;49m\u001b[43m \u001b[49m\u001b[38;5;129;43;01min\u001b[39;49;00m\u001b[43m \u001b[49m\u001b[43mgdf\u001b[49m\u001b[38;5;241;43m.\u001b[39;49m\u001b[43mcrs\u001b[49m):\n\u001b[1;32m    101\u001b[0m         \u001b[38;5;28;01mreturn\u001b[39;00m gdf\n\u001b[1;32m    103\u001b[0m     \u001b[38;5;66;03m# calculate the centroid of the union of all the geometries in the\u001b[39;00m\n\u001b[1;32m    104\u001b[0m     \u001b[38;5;66;03m# GeoDataFrame\u001b[39;00m\n",
      "\u001b[0;31mTypeError\u001b[0m: argument of type 'CRS' is not iterable"
     ]
    }
   ],
   "source": [
    "%matplotlib inline\n",
    "place_name=(\"Los Angeles, California\")\n",
    "graph = ox.graph_from_place(place_name, network_type='drive')\n",
    "fig, ax = ox.plot_graph(graph)\n",
    "area=ox.gdf_from_place(place_name)\n",
    "area.plot()"
   ]
  },
  {
   "cell_type": "code",
   "execution_count": null,
   "metadata": {},
   "outputs": [],
   "source": [
    "\n",
    "df = gpd.read_file('')\n",
    "\n",
    "def findcrossings(line1, line2):\n",
    "    crossings = []\n",
    "    if line1.crosses(line2):\n",
    "        crossings.append(line1.intersection(line2))\n",
    "    return crossings\n",
    "\n",
    "results = defaultdict(list)\n",
    "indices = df.index.to_list()\n",
    "for i in indices: \n",
    "    line = df.geometry.iloc[i] \n",
    "    verts = [v for v in line.coords] \n",
    "    segments = []\n",
    "    for p1, p2 in zip(verts, verts[1:]): \n",
    "        segment = LineString([p1, p2]) \n",
    "        segments.append(segment)\n",
    "    for l1, l2 in combinations(segments,2): \n",
    "        res = findcrossings(l1, l2) \n",
    "        if len(res)>0:\n",
    "            results[i].extend(res)"
   ]
  },
  {
   "cell_type": "code",
   "execution_count": null,
   "metadata": {},
   "outputs": [],
   "source": [
    "points=[]\n",
    "for i in gdf.id:\n",
    "    print(i)\n",
    "    # check overlap\n",
    "    feature = gdf[gdf['id']==i]['geometry'][i]\n",
    "    overlap_feature = gdf[gdf['id']!=i]['geometry'].unary_union\n",
    "    intersects = feature.intersection(overlap_feature)\n",
    "    points.append(intersects)\n",
    "points"
   ]
  },
  {
   "cell_type": "code",
   "execution_count": null,
   "metadata": {},
   "outputs": [],
   "source": [
    "intersections = gpd.GeoDataFrame(\n",
    "    {\"id\": [n for n,i in enumerate(points)]},\n",
    "    crs={'init':'epsg:4326'},\n",
    "    geometry=points\n",
    ")"
   ]
  },
  {
   "cell_type": "code",
   "execution_count": null,
   "metadata": {},
   "outputs": [],
   "source": [
    "\n",
    "fig,ax = plt.subplots()\n",
    "intersections.plot(color=\"r\", ax=ax,zorder=2)\n",
    "gdf.plot(ax=ax,zorder=1)"
   ]
  },
  {
   "cell_type": "code",
   "execution_count": null,
   "metadata": {},
   "outputs": [],
   "source": [
    "intersections['ispoint'] = intersections['geometry'].apply(lambda x: isinstance(x, Point)) \n",
    "is_point = intersections[intersections.ispoint] \n",
    "was_multipoint = intersections[~intersections.ispoint].explode().reset_index() \n",
    "\n",
    "\n",
    "now_point = is_point.append(was_multipoint)\n",
    "now_point.reset_index(inplace=True)\n",
    "now_point = now_point[['id','geometry']]\n",
    "now_point['id'] = now_point.index\n",
    "\n",
    "\n",
    "\n",
    "intersections2 = now_point.copy()\n",
    "points=[]\n",
    "n= 0\n",
    "for i in intersections2.id:\n",
    "    \n",
    "    feature = intersections2[intersections2['id']==i]['geometry'][i]\n",
    "    overlap_feature = intersections2[intersections2['id']!=i]['geometry'].unary_union\n",
    "\n",
    "    \n",
    "    if feature.intersects(overlap_feature):\n",
    "        intersections2.drop(i, inplace=True)\n",
    "    print(n, feature.intersects(overlap_feature))\n",
    "    n+=1\n",
    "intersections2"
   ]
  },
  {
   "cell_type": "code",
   "execution_count": 17,
   "metadata": {},
   "outputs": [
    {
     "name": "stdout",
     "output_type": "stream",
     "text": [
      "0.11\n"
     ]
    }
   ],
   "source": [
    "\n",
    "import osmnx as pp\n",
    "print(pp.__version__)\n"
   ]
  },
  {
   "cell_type": "code",
   "execution_count": 22,
   "metadata": {},
   "outputs": [
    {
     "data": {
      "text/html": [
       "<script>Jupyter.notebook.kernel.restart()</script>"
      ],
      "text/plain": [
       "<IPython.core.display.HTML object>"
      ]
     },
     "execution_count": 22,
     "metadata": {},
     "output_type": "execute_result"
    }
   ],
   "source": [
    "from IPython.core.display import HTML\n",
    "HTML(\"<script>Jupyter.notebook.kernel.restart()</script>\")"
   ]
  },
  {
   "cell_type": "code",
   "execution_count": 42,
   "metadata": {},
   "outputs": [
    {
     "name": "stdout",
     "output_type": "stream",
     "text": [
      "The NetworkX package is version 2.6.3\n",
      "The OSMNX package is version 0.11\n",
      "The Request package is version 2.27.1\n"
     ]
    },
    {
     "ename": "NameError",
     "evalue": "name 'pillow' is not defined",
     "output_type": "error",
     "traceback": [
      "\u001b[0;31m---------------------------------------------------------------------------\u001b[0m",
      "\u001b[0;31mNameError\u001b[0m                                 Traceback (most recent call last)",
      "Input \u001b[0;32mIn [42]\u001b[0m, in \u001b[0;36m<module>\u001b[0;34m\u001b[0m\n\u001b[1;32m      2\u001b[0m \u001b[38;5;28mprint\u001b[39m(\u001b[38;5;124mf\u001b[39m\u001b[38;5;124m\"\u001b[39m\u001b[38;5;124mThe OSMNX package is version \u001b[39m\u001b[38;5;132;01m{\u001b[39;00mox\u001b[38;5;241m.\u001b[39m__version__\u001b[38;5;132;01m}\u001b[39;00m\u001b[38;5;124m\"\u001b[39m)\n\u001b[1;32m      3\u001b[0m \u001b[38;5;28mprint\u001b[39m(\u001b[38;5;124mf\u001b[39m\u001b[38;5;124m\"\u001b[39m\u001b[38;5;124mThe Request package is version \u001b[39m\u001b[38;5;132;01m{\u001b[39;00mrequests\u001b[38;5;241m.\u001b[39m__version__\u001b[38;5;132;01m}\u001b[39;00m\u001b[38;5;124m\"\u001b[39m)\n\u001b[0;32m----> 4\u001b[0m \u001b[38;5;28mprint\u001b[39m(\u001b[38;5;124mf\u001b[39m\u001b[38;5;124m\"\u001b[39m\u001b[38;5;124mThe PIL package is version \u001b[39m\u001b[38;5;132;01m{\u001b[39;00mpillow\u001b[38;5;241m.\u001b[39m__version__\u001b[38;5;132;01m}\u001b[39;00m\u001b[38;5;124m\"\u001b[39m)\n",
      "\u001b[0;31mNameError\u001b[0m: name 'pillow' is not defined"
     ]
    }
   ],
   "source": [
    "print(f\"The NetworkX package is version {nx.__version__}\")\n",
    "print(f\"The OSMNX package is version {ox.__version__}\")\n",
    "print(f\"The Request package is version {requests.__version__}\")\n",
    "print(f\"The PIL package is version {pillow.__version__}\")"
   ]
  },
  {
   "cell_type": "code",
   "execution_count": null,
   "metadata": {},
   "outputs": [],
   "source": [
    "\n",
    "cluster=OPTICS(min_samples=1000,\n",
    "algorithm=\"ball_tree\",metric=\"haversine\",max_eps=inf,p=2, metric_params=None,cluster_method='dbscan').fit()\n",
    "cluster.labels_"
   ]
  }
 ],
 "metadata": {
  "interpreter": {
   "hash": "ba0e04738189444aca77e5e8332d0a618318b9a81522cb88ba3244d4a409d046"
  },
  "kernelspec": {
   "display_name": "Python 3.7.6 64-bit ('base': conda)",
   "language": "python",
   "name": "python3"
  },
  "language_info": {
   "codemirror_mode": {
    "name": "ipython",
    "version": 3
   },
   "file_extension": ".py",
   "mimetype": "text/x-python",
   "name": "python",
   "nbconvert_exporter": "python",
   "pygments_lexer": "ipython3",
   "version": "3.10.2"
  },
  "orig_nbformat": 4
 },
 "nbformat": 4,
 "nbformat_minor": 2
}
