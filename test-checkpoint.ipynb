{
 "cells": [
  {
   "cell_type": "code",
   "execution_count": 3,
   "metadata": {},
   "outputs": [],
   "source": [
    "accident_df = pd.read_csv(\"US_Accidents_June20_updated.csv\")"
   ]
  },
  {
   "cell_type": "code",
   "execution_count": 4,
   "metadata": {},
   "outputs": [
    {
     "data": {
      "text/html": [
       "<div>\n",
       "<style scoped>\n",
       "    .dataframe tbody tr th:only-of-type {\n",
       "        vertical-align: middle;\n",
       "    }\n",
       "\n",
       "    .dataframe tbody tr th {\n",
       "        vertical-align: top;\n",
       "    }\n",
       "\n",
       "    .dataframe thead th {\n",
       "        text-align: right;\n",
       "    }\n",
       "</style>\n",
       "<table border=\"1\" class=\"dataframe\">\n",
       "  <thead>\n",
       "    <tr style=\"text-align: right;\">\n",
       "      <th></th>\n",
       "      <th>Temperature(F)</th>\n",
       "      <th>Wind_Chill(F)</th>\n",
       "      <th>Humidity(%)</th>\n",
       "      <th>Pressure(in)</th>\n",
       "      <th>Visibility(mi)</th>\n",
       "      <th>Wind_Speed(mph)</th>\n",
       "      <th>Precipitation(in)</th>\n",
       "    </tr>\n",
       "  </thead>\n",
       "  <tbody>\n",
       "    <tr>\n",
       "      <th>count</th>\n",
       "      <td>1.473030e+06</td>\n",
       "      <td>1.066747e+06</td>\n",
       "      <td>1.470554e+06</td>\n",
       "      <td>1.479789e+06</td>\n",
       "      <td>1.471852e+06</td>\n",
       "      <td>1.387201e+06</td>\n",
       "      <td>1.005514e+06</td>\n",
       "    </tr>\n",
       "    <tr>\n",
       "      <th>mean</th>\n",
       "      <td>5.958462e+01</td>\n",
       "      <td>5.510980e+01</td>\n",
       "      <td>6.465959e+01</td>\n",
       "      <td>2.955495e+01</td>\n",
       "      <td>9.131761e+00</td>\n",
       "      <td>7.630810e+00</td>\n",
       "      <td>8.477843e-03</td>\n",
       "    </tr>\n",
       "    <tr>\n",
       "      <th>std</th>\n",
       "      <td>1.827315e+01</td>\n",
       "      <td>2.112732e+01</td>\n",
       "      <td>2.325986e+01</td>\n",
       "      <td>1.016757e+00</td>\n",
       "      <td>2.889105e+00</td>\n",
       "      <td>5.637366e+00</td>\n",
       "      <td>1.293169e-01</td>\n",
       "    </tr>\n",
       "    <tr>\n",
       "      <th>min</th>\n",
       "      <td>-8.900000e+01</td>\n",
       "      <td>-8.900000e+01</td>\n",
       "      <td>1.000000e+00</td>\n",
       "      <td>0.000000e+00</td>\n",
       "      <td>0.000000e+00</td>\n",
       "      <td>0.000000e+00</td>\n",
       "      <td>0.000000e+00</td>\n",
       "    </tr>\n",
       "    <tr>\n",
       "      <th>25%</th>\n",
       "      <td>4.700000e+01</td>\n",
       "      <td>4.080000e+01</td>\n",
       "      <td>4.800000e+01</td>\n",
       "      <td>2.944000e+01</td>\n",
       "      <td>1.000000e+01</td>\n",
       "      <td>4.600000e+00</td>\n",
       "      <td>0.000000e+00</td>\n",
       "    </tr>\n",
       "    <tr>\n",
       "      <th>50%</th>\n",
       "      <td>6.100000e+01</td>\n",
       "      <td>5.700000e+01</td>\n",
       "      <td>6.800000e+01</td>\n",
       "      <td>2.988000e+01</td>\n",
       "      <td>1.000000e+01</td>\n",
       "      <td>7.000000e+00</td>\n",
       "      <td>0.000000e+00</td>\n",
       "    </tr>\n",
       "    <tr>\n",
       "      <th>75%</th>\n",
       "      <td>7.300000e+01</td>\n",
       "      <td>7.100000e+01</td>\n",
       "      <td>8.400000e+01</td>\n",
       "      <td>3.004000e+01</td>\n",
       "      <td>1.000000e+01</td>\n",
       "      <td>1.040000e+01</td>\n",
       "      <td>0.000000e+00</td>\n",
       "    </tr>\n",
       "    <tr>\n",
       "      <th>max</th>\n",
       "      <td>1.706000e+02</td>\n",
       "      <td>1.130000e+02</td>\n",
       "      <td>1.000000e+02</td>\n",
       "      <td>5.804000e+01</td>\n",
       "      <td>1.400000e+02</td>\n",
       "      <td>9.840000e+02</td>\n",
       "      <td>2.400000e+01</td>\n",
       "    </tr>\n",
       "  </tbody>\n",
       "</table>\n",
       "</div>"
      ],
      "text/plain": [
       "       Temperature(F)  Wind_Chill(F)   Humidity(%)  Pressure(in)  \\\n",
       "count    1.473030e+06   1.066747e+06  1.470554e+06  1.479789e+06   \n",
       "mean     5.958462e+01   5.510980e+01  6.465959e+01  2.955495e+01   \n",
       "std      1.827315e+01   2.112732e+01  2.325986e+01  1.016757e+00   \n",
       "min     -8.900000e+01  -8.900000e+01  1.000000e+00  0.000000e+00   \n",
       "25%      4.700000e+01   4.080000e+01  4.800000e+01  2.944000e+01   \n",
       "50%      6.100000e+01   5.700000e+01  6.800000e+01  2.988000e+01   \n",
       "75%      7.300000e+01   7.100000e+01  8.400000e+01  3.004000e+01   \n",
       "max      1.706000e+02   1.130000e+02  1.000000e+02  5.804000e+01   \n",
       "\n",
       "       Visibility(mi)  Wind_Speed(mph)  Precipitation(in)  \n",
       "count    1.471852e+06     1.387201e+06       1.005514e+06  \n",
       "mean     9.131761e+00     7.630810e+00       8.477843e-03  \n",
       "std      2.889105e+00     5.637366e+00       1.293169e-01  \n",
       "min      0.000000e+00     0.000000e+00       0.000000e+00  \n",
       "25%      1.000000e+01     4.600000e+00       0.000000e+00  \n",
       "50%      1.000000e+01     7.000000e+00       0.000000e+00  \n",
       "75%      1.000000e+01     1.040000e+01       0.000000e+00  \n",
       "max      1.400000e+02     9.840000e+02       2.400000e+01  "
      ]
     },
     "execution_count": 4,
     "metadata": {},
     "output_type": "execute_result"
    }
   ],
   "source": [
    "accident_df.describe()\n",
    " "
   ]
  },
  {
   "cell_type": "code",
   "execution_count": 5,
   "metadata": {},
   "outputs": [
    {
     "data": {
      "text/plain": [
       "(1516064, 47)"
      ]
     },
     "execution_count": 5,
     "metadata": {},
     "output_type": "execute_result"
    }
   ],
   "source": [
    "accident_df.shape"
   ]
  },
  {
   "cell_type": "code",
   "execution_count": 6,
   "metadata": {},
   "outputs": [
    {
     "name": "stdout",
     "output_type": "stream",
     "text": [
      "<class 'pandas.core.frame.DataFrame'>\n",
      "RangeIndex: 1516064 entries, 0 to 1516063\n",
      "Data columns (total 47 columns):\n",
      " #   Column                 Non-Null Count    Dtype  \n",
      "---  ------                 --------------    -----  \n",
      " 0   ID                     1516064 non-null  object \n",
      " 1   Severity               1516064 non-null  object \n",
      " 2   Start_Time             1516064 non-null  object \n",
      " 3   End_Time               1516064 non-null  object \n",
      " 4   Start_Lat              1516064 non-null  object \n",
      " 5   Start_Lng              1516064 non-null  object \n",
      " 6   End_Lat                1516064 non-null  object \n",
      " 7   End_Lng                1516064 non-null  object \n",
      " 8   Distance(mi)           1516064 non-null  object \n",
      " 9   Description            1516064 non-null  object \n",
      " 10  Number                 469970 non-null   object \n",
      " 11  Street                 1516064 non-null  object \n",
      " 12  Side                   1516064 non-null  object \n",
      " 13  City                   1515981 non-null  object \n",
      " 14  County                 1516064 non-null  object \n",
      " 15  State                  1516064 non-null  object \n",
      " 16  Zipcode                1515129 non-null  object \n",
      " 17  Country                1516064 non-null  object \n",
      " 18  Timezone               1513762 non-null  object \n",
      " 19  Airport_Code           1511815 non-null  object \n",
      " 20  Weather_Timestamp      1485799 non-null  object \n",
      " 21  Temperature(F)         1473030 non-null  float64\n",
      " 22  Wind_Chill(F)          1066747 non-null  float64\n",
      " 23  Humidity(%)            1470554 non-null  float64\n",
      " 24  Pressure(in)           1479789 non-null  float64\n",
      " 25  Visibility(mi)         1471852 non-null  float64\n",
      " 26  Wind_Direction         1474205 non-null  object \n",
      " 27  Wind_Speed(mph)        1387201 non-null  float64\n",
      " 28  Precipitation(in)      1005514 non-null  float64\n",
      " 29  Weather_Condition      1472056 non-null  object \n",
      " 30  Amenity                1516063 non-null  object \n",
      " 31  Bump                   1516063 non-null  object \n",
      " 32  Crossing               1516063 non-null  object \n",
      " 33  Give_Way               1516063 non-null  object \n",
      " 34  Junction               1516062 non-null  object \n",
      " 35  No_Exit                1516062 non-null  object \n",
      " 36  Railway                1516062 non-null  object \n",
      " 37  Roundabout             1516062 non-null  object \n",
      " 38  Station                1516062 non-null  object \n",
      " 39  Stop                   1516062 non-null  object \n",
      " 40  Traffic_Calming        1516062 non-null  object \n",
      " 41  Traffic_Signal         1516062 non-null  object \n",
      " 42  Turning_Loop           1516062 non-null  object \n",
      " 43  Sunrise_Sunset         1515979 non-null  object \n",
      " 44  Civil_Twilight         1515979 non-null  object \n",
      " 45  Nautical_Twilight      1515979 non-null  object \n",
      " 46  Astronomical_Twilight  1515979 non-null  object \n",
      "dtypes: float64(7), object(40)\n",
      "memory usage: 543.6+ MB\n"
     ]
    }
   ],
   "source": [
    "accident_df.info()"
   ]
  },
  {
   "cell_type": "code",
   "execution_count": null,
   "metadata": {},
   "outputs": [],
   "source": [
    "accident_df.columns"
   ]
  },
  {
   "cell_type": "code",
   "execution_count": 7,
   "metadata": {},
   "outputs": [],
   "source": [
    "accidents= accident_df[['ID','Severity','Start_Time','City','State']]\n"
   ]
  },
  {
   "cell_type": "code",
   "execution_count": 8,
   "metadata": {},
   "outputs": [
    {
     "data": {
      "text/plain": [
       "ID             0\n",
       "Severity       0\n",
       "Start_Time     0\n",
       "City          83\n",
       "State          0\n",
       "dtype: int64"
      ]
     },
     "execution_count": 8,
     "metadata": {},
     "output_type": "execute_result"
    }
   ],
   "source": [
    "accidents.isnull().sum()"
   ]
  },
  {
   "cell_type": "code",
   "execution_count": 9,
   "metadata": {},
   "outputs": [
    {
     "name": "stdout",
     "output_type": "stream",
     "text": [
      "                          ID    Severity           Start_Time           City  \\\n",
      "0                  A-2716600           3  2016-02-08 00:37:08         Dublin   \n",
      "1                  A-2716601           2  2016-02-08 05:56:20         Dayton   \n",
      "2                  A-2716602           2  2016-02-08 06:15:39     Cincinnati   \n",
      "3                  A-2716603           2  2016-02-08 06:15:39     Cincinnati   \n",
      "4                  A-2716604           2  2016-02-08 06:51:45          Akron   \n",
      "...                      ...         ...                  ...            ...   \n",
      "241682             A-2958354           2  2020-12-31 22:49:31  Klamath Falls   \n",
      "325324             A-3043223           2  2020-12-31 22:51:32         Eugene   \n",
      "689119             A-3412011           2  2020-12-31 22:51:32         Eugene   \n",
      "529948             A-3250725           2  2020-12-31 23:28:56           Otis   \n",
      "34      print(accident_df_4)  Light Snow                False          False   \n",
      "\n",
      "       State  \n",
      "0         OH  \n",
      "1         OH  \n",
      "2         OH  \n",
      "3         OH  \n",
      "4         OH  \n",
      "...      ...  \n",
      "241682    OR  \n",
      "325324    OR  \n",
      "689119    OR  \n",
      "529948    OR  \n",
      "34       Day  \n",
      "\n",
      "[1516064 rows x 5 columns]\n"
     ]
    }
   ],
   "source": [
    "sortedByTime= accidents.sort_values(by=[\"Start_Time\"])\n",
    "print(sortedByTime)"
   ]
  },
  {
   "cell_type": "code",
   "execution_count": 10,
   "metadata": {},
   "outputs": [
    {
     "data": {
      "text/html": [
       "<div>\n",
       "<style scoped>\n",
       "    .dataframe tbody tr th:only-of-type {\n",
       "        vertical-align: middle;\n",
       "    }\n",
       "\n",
       "    .dataframe tbody tr th {\n",
       "        vertical-align: top;\n",
       "    }\n",
       "\n",
       "    .dataframe thead th {\n",
       "        text-align: right;\n",
       "    }\n",
       "</style>\n",
       "<table border=\"1\" class=\"dataframe\">\n",
       "  <thead>\n",
       "    <tr style=\"text-align: right;\">\n",
       "      <th></th>\n",
       "      <th>ID</th>\n",
       "      <th>Severity</th>\n",
       "      <th>Start_Time</th>\n",
       "      <th>City</th>\n",
       "      <th>State</th>\n",
       "    </tr>\n",
       "  </thead>\n",
       "  <tbody>\n",
       "    <tr>\n",
       "      <th>count</th>\n",
       "      <td>1516064</td>\n",
       "      <td>1516064</td>\n",
       "      <td>1516064</td>\n",
       "      <td>1515981</td>\n",
       "      <td>1516064</td>\n",
       "    </tr>\n",
       "    <tr>\n",
       "      <th>unique</th>\n",
       "      <td>1516064</td>\n",
       "      <td>8</td>\n",
       "      <td>1037092</td>\n",
       "      <td>10658</td>\n",
       "      <td>50</td>\n",
       "    </tr>\n",
       "    <tr>\n",
       "      <th>top</th>\n",
       "      <td>A-3568144</td>\n",
       "      <td>2</td>\n",
       "      <td>2020-12-16 13:53:25</td>\n",
       "      <td>Los Angeles</td>\n",
       "      <td>CA</td>\n",
       "    </tr>\n",
       "    <tr>\n",
       "      <th>freq</th>\n",
       "      <td>1</td>\n",
       "      <td>1199594</td>\n",
       "      <td>109</td>\n",
       "      <td>39984</td>\n",
       "      <td>448833</td>\n",
       "    </tr>\n",
       "  </tbody>\n",
       "</table>\n",
       "</div>"
      ],
      "text/plain": [
       "               ID  Severity           Start_Time         City    State\n",
       "count     1516064   1516064              1516064      1515981  1516064\n",
       "unique    1516064         8              1037092        10658       50\n",
       "top     A-3568144         2  2020-12-16 13:53:25  Los Angeles       CA\n",
       "freq            1   1199594                  109        39984   448833"
      ]
     },
     "execution_count": 10,
     "metadata": {},
     "output_type": "execute_result"
    }
   ],
   "source": [
    "sortedByTime.describe(include='all')"
   ]
  },
  {
   "cell_type": "code",
   "execution_count": 11,
   "metadata": {},
   "outputs": [
    {
     "name": "stdout",
     "output_type": "stream",
     "text": [
      "2020-12-16 13:53:25    109\n",
      "2020-09-30 12:41:30     80\n",
      "2017-05-15 09:22:55     74\n",
      "2020-12-16 13:54:00     61\n",
      "2020-10-12 11:13:30     60\n",
      "                      ... \n",
      "2018-09-19 10:01:10      1\n",
      "2020-03-03 20:22:00      1\n",
      "2018-01-05 00:39:40      1\n",
      "2018-08-29 08:47:13      1\n",
      "2020-11-20 04:57:45      1\n",
      "Name: Start_Time, Length: 1037092, dtype: int64\n"
     ]
    }
   ],
   "source": [
    "frequancy= sortedByTime['Start_Time'].value_counts()\n",
    "print(frequancy)"
   ]
  },
  {
   "cell_type": "code",
   "execution_count": 12,
   "metadata": {},
   "outputs": [],
   "source": [
    "accident_df_2= pd.DataFrame(frequancy)"
   ]
  },
  {
   "cell_type": "code",
   "execution_count": 13,
   "metadata": {},
   "outputs": [
    {
     "name": "stdout",
     "output_type": "stream",
     "text": [
      "                       index  Start_Time\n",
      "0        2020-12-16 13:53:25         109\n",
      "1        2020-09-30 12:41:30          80\n",
      "2        2017-05-15 09:22:55          74\n",
      "3        2020-12-16 13:54:00          61\n",
      "4        2020-10-12 11:13:30          60\n",
      "...                      ...         ...\n",
      "1037087  2018-09-19 10:01:10           1\n",
      "1037088  2020-03-03 20:22:00           1\n",
      "1037089  2018-01-05 00:39:40           1\n",
      "1037090  2018-08-29 08:47:13           1\n",
      "1037091  2020-11-20 04:57:45           1\n",
      "\n",
      "[1037092 rows x 2 columns]\n"
     ]
    }
   ],
   "source": [
    "plot= frequancy.reset_index()\n",
    "print(plot)\n"
   ]
  },
  {
   "cell_type": "code",
   "execution_count": 14,
   "metadata": {},
   "outputs": [],
   "source": [
    "accident_df_3= accident_df_2.reset_index()"
   ]
  },
  {
   "cell_type": "code",
   "execution_count": 15,
   "metadata": {},
   "outputs": [
    {
     "name": "stdout",
     "output_type": "stream",
     "text": [
      "                   date_time  counts\n",
      "0        2020-12-16 13:53:25     109\n",
      "1        2020-09-30 12:41:30      80\n",
      "2        2017-05-15 09:22:55      74\n",
      "3        2020-12-16 13:54:00      61\n",
      "4        2020-10-12 11:13:30      60\n",
      "...                      ...     ...\n",
      "1037087  2018-09-19 10:01:10       1\n",
      "1037088  2020-03-03 20:22:00       1\n",
      "1037089  2018-01-05 00:39:40       1\n",
      "1037090  2018-08-29 08:47:13       1\n",
      "1037091  2020-11-20 04:57:45       1\n",
      "\n",
      "[1037092 rows x 2 columns]\n"
     ]
    }
   ],
   "source": [
    "\n",
    "accident_df_3 = accident_df_3.rename(columns={\"index\":\"date_time\", \"Start_Time\": \"counts\"})\n",
    "print(accident_df_3)\n"
   ]
  },
  {
   "cell_type": "code",
   "execution_count": 16,
   "metadata": {},
   "outputs": [
    {
     "data": {
      "text/plain": [
       "date_time    1\n",
       "counts       1\n",
       "dtype: int64"
      ]
     },
     "execution_count": 16,
     "metadata": {},
     "output_type": "execute_result"
    }
   ],
   "source": [
    "accident_df_3[accident_df_3['date_time']=='False'].count()"
   ]
  },
  {
   "cell_type": "code",
   "execution_count": 17,
   "metadata": {},
   "outputs": [],
   "source": [
    "accident_df_3 = accident_df_3[accident_df_3['date_time']!='False']"
   ]
  },
  {
   "cell_type": "code",
   "execution_count": 18,
   "metadata": {},
   "outputs": [],
   "source": [
    "\n",
    "accident_df_3['Months'] =pd.to_datetime(accident_df_3['date_time']).dt.month\n",
    "accident_df_3['Minute'] =pd.to_datetime (accident_df_3['date_time']).dt.minute\n",
    "accident_df_3['Hours'] = pd.to_datetime(accident_df_3['date_time']).dt.hour\n",
    "accident_df_3['Year'] = pd.to_datetime(accident_df_3['date_time']).dt.year\n",
    "accident_df_3['Day'] =pd.to_datetime(accident_df_3['date_time']).dt.day"
   ]
  },
  {
   "cell_type": "code",
   "execution_count": 19,
   "metadata": {},
   "outputs": [
    {
     "name": "stdout",
     "output_type": "stream",
     "text": [
      "         Year  Months  Day  Hours  Minute\n",
      "0        2020      12   16     13      53\n",
      "1        2020       9   30     12      41\n",
      "2        2017       5   15      9      22\n",
      "3        2020      12   16     13      54\n",
      "4        2020      10   12     11      13\n",
      "...       ...     ...  ...    ...     ...\n",
      "1037087  2018       9   19     10       1\n",
      "1037088  2020       3    3     20      22\n",
      "1037089  2018       1    5      0      39\n",
      "1037090  2018       8   29      8      47\n",
      "1037091  2020      11   20      4      57\n",
      "\n",
      "[1037091 rows x 5 columns]\n"
     ]
    }
   ],
   "source": [
    "accident_df_4= accident_df_3[['Year','Months','Day','Hours','Minute']]\n",
    "print(accident_df_4)"
   ]
  },
  {
   "cell_type": "code",
   "execution_count": 20,
   "metadata": {},
   "outputs": [
    {
     "data": {
      "text/html": [
       "<div>\n",
       "<style scoped>\n",
       "    .dataframe tbody tr th:only-of-type {\n",
       "        vertical-align: middle;\n",
       "    }\n",
       "\n",
       "    .dataframe tbody tr th {\n",
       "        vertical-align: top;\n",
       "    }\n",
       "\n",
       "    .dataframe thead th {\n",
       "        text-align: right;\n",
       "    }\n",
       "</style>\n",
       "<table border=\"1\" class=\"dataframe\">\n",
       "  <thead>\n",
       "    <tr style=\"text-align: right;\">\n",
       "      <th></th>\n",
       "      <th>Year</th>\n",
       "      <th>Months</th>\n",
       "      <th>Day</th>\n",
       "      <th>Hours</th>\n",
       "      <th>Minute</th>\n",
       "    </tr>\n",
       "  </thead>\n",
       "  <tbody>\n",
       "    <tr>\n",
       "      <th>count</th>\n",
       "      <td>1.037091e+06</td>\n",
       "      <td>1.037091e+06</td>\n",
       "      <td>1.037091e+06</td>\n",
       "      <td>1.037091e+06</td>\n",
       "      <td>1.037091e+06</td>\n",
       "    </tr>\n",
       "    <tr>\n",
       "      <th>mean</th>\n",
       "      <td>2.018773e+03</td>\n",
       "      <td>7.271206e+00</td>\n",
       "      <td>1.613792e+01</td>\n",
       "      <td>1.256022e+01</td>\n",
       "      <td>2.979507e+01</td>\n",
       "    </tr>\n",
       "    <tr>\n",
       "      <th>std</th>\n",
       "      <td>1.383034e+00</td>\n",
       "      <td>3.611603e+00</td>\n",
       "      <td>8.706519e+00</td>\n",
       "      <td>6.017129e+00</td>\n",
       "      <td>1.733078e+01</td>\n",
       "    </tr>\n",
       "    <tr>\n",
       "      <th>min</th>\n",
       "      <td>2.016000e+03</td>\n",
       "      <td>1.000000e+00</td>\n",
       "      <td>1.000000e+00</td>\n",
       "      <td>0.000000e+00</td>\n",
       "      <td>0.000000e+00</td>\n",
       "    </tr>\n",
       "    <tr>\n",
       "      <th>25%</th>\n",
       "      <td>2.018000e+03</td>\n",
       "      <td>4.000000e+00</td>\n",
       "      <td>9.000000e+00</td>\n",
       "      <td>8.000000e+00</td>\n",
       "      <td>1.500000e+01</td>\n",
       "    </tr>\n",
       "    <tr>\n",
       "      <th>50%</th>\n",
       "      <td>2.019000e+03</td>\n",
       "      <td>8.000000e+00</td>\n",
       "      <td>1.600000e+01</td>\n",
       "      <td>1.300000e+01</td>\n",
       "      <td>3.000000e+01</td>\n",
       "    </tr>\n",
       "    <tr>\n",
       "      <th>75%</th>\n",
       "      <td>2.020000e+03</td>\n",
       "      <td>1.100000e+01</td>\n",
       "      <td>2.400000e+01</td>\n",
       "      <td>1.700000e+01</td>\n",
       "      <td>4.500000e+01</td>\n",
       "    </tr>\n",
       "    <tr>\n",
       "      <th>max</th>\n",
       "      <td>2.020000e+03</td>\n",
       "      <td>1.200000e+01</td>\n",
       "      <td>3.100000e+01</td>\n",
       "      <td>2.300000e+01</td>\n",
       "      <td>5.900000e+01</td>\n",
       "    </tr>\n",
       "  </tbody>\n",
       "</table>\n",
       "</div>"
      ],
      "text/plain": [
       "               Year        Months           Day         Hours        Minute\n",
       "count  1.037091e+06  1.037091e+06  1.037091e+06  1.037091e+06  1.037091e+06\n",
       "mean   2.018773e+03  7.271206e+00  1.613792e+01  1.256022e+01  2.979507e+01\n",
       "std    1.383034e+00  3.611603e+00  8.706519e+00  6.017129e+00  1.733078e+01\n",
       "min    2.016000e+03  1.000000e+00  1.000000e+00  0.000000e+00  0.000000e+00\n",
       "25%    2.018000e+03  4.000000e+00  9.000000e+00  8.000000e+00  1.500000e+01\n",
       "50%    2.019000e+03  8.000000e+00  1.600000e+01  1.300000e+01  3.000000e+01\n",
       "75%    2.020000e+03  1.100000e+01  2.400000e+01  1.700000e+01  4.500000e+01\n",
       "max    2.020000e+03  1.200000e+01  3.100000e+01  2.300000e+01  5.900000e+01"
      ]
     },
     "execution_count": 20,
     "metadata": {},
     "output_type": "execute_result"
    }
   ],
   "source": [
    "accident_df_4.describe(include='all')"
   ]
  },
  {
   "cell_type": "code",
   "execution_count": 21,
   "metadata": {},
   "outputs": [
    {
     "data": {
      "text/plain": [
       "(array([3.43900e+03, 1.80000e+01, 1.18700e+03, 1.90370e+05, 7.87516e+05,\n",
       "        5.44780e+04, 5.10000e+01, 0.00000e+00, 2.30000e+01, 9.00000e+00]),\n",
       " array([ 2. ,  4.1,  6.2,  8.3, 10.4, 12.5, 14.6, 16.7, 18.8, 20.9, 23. ]),\n",
       " <a list of 10 Patch objects>)"
      ]
     },
     "execution_count": 21,
     "metadata": {},
     "output_type": "execute_result"
    },
    {
     "data": {
      "image/png": "[encoded data removed]",
      "text/plain": [
       "<Figure size 432x288 with 1 Axes>"
      ]
     },
     "metadata": {
      "needs_background": "light"
     },
     "output_type": "display_data"
    }
   ],
   "source": [
    "\n",
    "\n",
    "plt.hist(accident_df_4.loc[accident_df_3['counts']]['Hours'])\n"
   ]
  },
  {
   "cell_type": "markdown",
   "metadata": {},
   "source": [
    "Aylara Göre"
   ]
  },
  {
   "cell_type": "code",
   "execution_count": 22,
   "metadata": {},
   "outputs": [
    {
     "data": {
      "text/html": [
       "<div>\n",
       "<style scoped>\n",
       "    .dataframe tbody tr th:only-of-type {\n",
       "        vertical-align: middle;\n",
       "    }\n",
       "\n",
       "    .dataframe tbody tr th {\n",
       "        vertical-align: top;\n",
       "    }\n",
       "\n",
       "    .dataframe thead th {\n",
       "        text-align: right;\n",
       "    }\n",
       "</style>\n",
       "<table border=\"1\" class=\"dataframe\">\n",
       "  <thead>\n",
       "    <tr style=\"text-align: right;\">\n",
       "      <th></th>\n",
       "      <th>ID</th>\n",
       "      <th>Severity</th>\n",
       "      <th>Start_Time</th>\n",
       "      <th>City</th>\n",
       "      <th>State</th>\n",
       "    </tr>\n",
       "  </thead>\n",
       "  <tbody>\n",
       "    <tr>\n",
       "      <th>1</th>\n",
       "      <td>A-2716601</td>\n",
       "      <td>2</td>\n",
       "      <td>2016-02-08 05:56:20</td>\n",
       "      <td>Dayton</td>\n",
       "      <td>OH</td>\n",
       "    </tr>\n",
       "    <tr>\n",
       "      <th>2</th>\n",
       "      <td>A-2716602</td>\n",
       "      <td>2</td>\n",
       "      <td>2016-02-08 06:15:39</td>\n",
       "      <td>Cincinnati</td>\n",
       "      <td>OH</td>\n",
       "    </tr>\n",
       "    <tr>\n",
       "      <th>3</th>\n",
       "      <td>A-2716603</td>\n",
       "      <td>2</td>\n",
       "      <td>2016-02-08 06:15:39</td>\n",
       "      <td>Cincinnati</td>\n",
       "      <td>OH</td>\n",
       "    </tr>\n",
       "    <tr>\n",
       "      <th>4</th>\n",
       "      <td>A-2716604</td>\n",
       "      <td>2</td>\n",
       "      <td>2016-02-08 06:51:45</td>\n",
       "      <td>Akron</td>\n",
       "      <td>OH</td>\n",
       "    </tr>\n",
       "    <tr>\n",
       "      <th>6</th>\n",
       "      <td>A-2716606</td>\n",
       "      <td>2</td>\n",
       "      <td>2016-02-08 08:16:57</td>\n",
       "      <td>Williamsburg</td>\n",
       "      <td>OH</td>\n",
       "    </tr>\n",
       "    <tr>\n",
       "      <th>...</th>\n",
       "      <td>...</td>\n",
       "      <td>...</td>\n",
       "      <td>...</td>\n",
       "      <td>...</td>\n",
       "      <td>...</td>\n",
       "    </tr>\n",
       "    <tr>\n",
       "      <th>16375</th>\n",
       "      <td>A-2732975</td>\n",
       "      <td>2</td>\n",
       "      <td>2017-01-11 18:08:47</td>\n",
       "      <td>Shawnee</td>\n",
       "      <td>KS</td>\n",
       "    </tr>\n",
       "    <tr>\n",
       "      <th>16377</th>\n",
       "      <td>A-2732977</td>\n",
       "      <td>2</td>\n",
       "      <td>2017-01-11 18:11:32</td>\n",
       "      <td>Lees Summit</td>\n",
       "      <td>MO</td>\n",
       "    </tr>\n",
       "    <tr>\n",
       "      <th>16379</th>\n",
       "      <td>A-2732979</td>\n",
       "      <td>2</td>\n",
       "      <td>2017-01-11 17:46:47</td>\n",
       "      <td>Red Oak</td>\n",
       "      <td>TX</td>\n",
       "    </tr>\n",
       "    <tr>\n",
       "      <th>16381</th>\n",
       "      <td>A-2732981</td>\n",
       "      <td>2</td>\n",
       "      <td>2017-01-11 18:41:07</td>\n",
       "      <td>Saint Louis</td>\n",
       "      <td>MO</td>\n",
       "    </tr>\n",
       "    <tr>\n",
       "      <th>16382</th>\n",
       "      <td>A-2732982</td>\n",
       "      <td>2</td>\n",
       "      <td>2017-01-11 18:41:07</td>\n",
       "      <td>Saint Louis</td>\n",
       "      <td>MO</td>\n",
       "    </tr>\n",
       "  </tbody>\n",
       "</table>\n",
       "<p>12788 rows × 5 columns</p>\n",
       "</div>"
      ],
      "text/plain": [
       "              ID Severity           Start_Time          City State\n",
       "1      A-2716601        2  2016-02-08 05:56:20        Dayton    OH\n",
       "2      A-2716602        2  2016-02-08 06:15:39    Cincinnati    OH\n",
       "3      A-2716603        2  2016-02-08 06:15:39    Cincinnati    OH\n",
       "4      A-2716604        2  2016-02-08 06:51:45         Akron    OH\n",
       "6      A-2716606        2  2016-02-08 08:16:57  Williamsburg    OH\n",
       "...          ...      ...                  ...           ...   ...\n",
       "16375  A-2732975        2  2017-01-11 18:08:47       Shawnee    KS\n",
       "16377  A-2732977        2  2017-01-11 18:11:32   Lees Summit    MO\n",
       "16379  A-2732979        2  2017-01-11 17:46:47       Red Oak    TX\n",
       "16381  A-2732981        2  2017-01-11 18:41:07   Saint Louis    MO\n",
       "16382  A-2732982        2  2017-01-11 18:41:07   Saint Louis    MO\n",
       "\n",
       "[12788 rows x 5 columns]"
      ]
     },
     "execution_count": 22,
     "metadata": {},
     "output_type": "execute_result"
    }
   ],
   "source": [
    "\n",
    "accidents[accidents['Severity']=='2']"
   ]
  },
  {
   "cell_type": "code",
   "execution_count": 23,
   "metadata": {},
   "outputs": [
    {
     "data": {
      "text/plain": [
       "<matplotlib.axes._subplots.AxesSubplot at 0x7f56162db6d0>"
      ]
     },
     "execution_count": 23,
     "metadata": {},
     "output_type": "execute_result"
    },
    {
     "data": {
      "image/png": "[encoded data removed]",
      "text/plain": [
       "<Figure size 432x288 with 1 Axes>"
      ]
     },
     "metadata": {
      "needs_background": "light"
     },
     "output_type": "display_data"
    }
   ],
   "source": [
    "accident_df_4[\"Hours\"].value_counts().plot.barh()"
   ]
  },
  {
   "cell_type": "code",
   "execution_count": 24,
   "metadata": {},
   "outputs": [
    {
     "data": {
      "text/html": [
       "<div>\n",
       "<style scoped>\n",
       "    .dataframe tbody tr th:only-of-type {\n",
       "        vertical-align: middle;\n",
       "    }\n",
       "\n",
       "    .dataframe tbody tr th {\n",
       "        vertical-align: top;\n",
       "    }\n",
       "\n",
       "    .dataframe thead th {\n",
       "        text-align: right;\n",
       "    }\n",
       "</style>\n",
       "<table border=\"1\" class=\"dataframe\">\n",
       "  <thead>\n",
       "    <tr style=\"text-align: right;\">\n",
       "      <th></th>\n",
       "      <th>ID</th>\n",
       "      <th>Severity</th>\n",
       "      <th>Start_Time</th>\n",
       "      <th>City</th>\n",
       "      <th>State</th>\n",
       "    </tr>\n",
       "  </thead>\n",
       "  <tbody>\n",
       "    <tr>\n",
       "      <th>5360</th>\n",
       "      <td>A-2721960</td>\n",
       "      <td>2</td>\n",
       "      <td>2016-03-22 19:36:44</td>\n",
       "      <td>Los Angeles</td>\n",
       "      <td>CA</td>\n",
       "    </tr>\n",
       "    <tr>\n",
       "      <th>5364</th>\n",
       "      <td>A-2721964</td>\n",
       "      <td>2</td>\n",
       "      <td>2016-03-22 20:59:43</td>\n",
       "      <td>Los Angeles</td>\n",
       "      <td>CA</td>\n",
       "    </tr>\n",
       "    <tr>\n",
       "      <th>5379</th>\n",
       "      <td>A-2721979</td>\n",
       "      <td>3</td>\n",
       "      <td>2016-03-23 07:59:47</td>\n",
       "      <td>Los Angeles</td>\n",
       "      <td>CA</td>\n",
       "    </tr>\n",
       "    <tr>\n",
       "      <th>5397</th>\n",
       "      <td>A-2721997</td>\n",
       "      <td>2</td>\n",
       "      <td>2016-03-23 11:50:32</td>\n",
       "      <td>Los Angeles</td>\n",
       "      <td>CA</td>\n",
       "    </tr>\n",
       "    <tr>\n",
       "      <th>5399</th>\n",
       "      <td>A-2721999</td>\n",
       "      <td>2</td>\n",
       "      <td>2016-03-23 12:16:45</td>\n",
       "      <td>Los Angeles</td>\n",
       "      <td>CA</td>\n",
       "    </tr>\n",
       "    <tr>\n",
       "      <th>...</th>\n",
       "      <td>...</td>\n",
       "      <td>...</td>\n",
       "      <td>...</td>\n",
       "      <td>...</td>\n",
       "      <td>...</td>\n",
       "    </tr>\n",
       "    <tr>\n",
       "      <th>1515619</th>\n",
       "      <td>A-4238962</td>\n",
       "      <td>2</td>\n",
       "      <td>2019-08-22 17:07:14</td>\n",
       "      <td>Los Angeles</td>\n",
       "      <td>CA</td>\n",
       "    </tr>\n",
       "    <tr>\n",
       "      <th>1516027</th>\n",
       "      <td>A-4239370</td>\n",
       "      <td>3</td>\n",
       "      <td>2019-08-23 04:04:48</td>\n",
       "      <td>Los Angeles</td>\n",
       "      <td>CA</td>\n",
       "    </tr>\n",
       "    <tr>\n",
       "      <th>1516031</th>\n",
       "      <td>A-4239374</td>\n",
       "      <td>2</td>\n",
       "      <td>2019-08-23 12:52:31</td>\n",
       "      <td>Los Angeles</td>\n",
       "      <td>CA</td>\n",
       "    </tr>\n",
       "    <tr>\n",
       "      <th>1516034</th>\n",
       "      <td>A-4239377</td>\n",
       "      <td>2</td>\n",
       "      <td>2019-08-23 13:42:50</td>\n",
       "      <td>Los Angeles</td>\n",
       "      <td>CA</td>\n",
       "    </tr>\n",
       "    <tr>\n",
       "      <th>1516046</th>\n",
       "      <td>A-4239389</td>\n",
       "      <td>2</td>\n",
       "      <td>2019-08-23 15:45:43</td>\n",
       "      <td>Los Angeles</td>\n",
       "      <td>CA</td>\n",
       "    </tr>\n",
       "  </tbody>\n",
       "</table>\n",
       "<p>39984 rows × 5 columns</p>\n",
       "</div>"
      ],
      "text/plain": [
       "                ID Severity           Start_Time         City State\n",
       "5360     A-2721960        2  2016-03-22 19:36:44  Los Angeles    CA\n",
       "5364     A-2721964        2  2016-03-22 20:59:43  Los Angeles    CA\n",
       "5379     A-2721979        3  2016-03-23 07:59:47  Los Angeles    CA\n",
       "5397     A-2721997        2  2016-03-23 11:50:32  Los Angeles    CA\n",
       "5399     A-2721999        2  2016-03-23 12:16:45  Los Angeles    CA\n",
       "...            ...      ...                  ...          ...   ...\n",
       "1515619  A-4238962        2  2019-08-22 17:07:14  Los Angeles    CA\n",
       "1516027  A-4239370        3  2019-08-23 04:04:48  Los Angeles    CA\n",
       "1516031  A-4239374        2  2019-08-23 12:52:31  Los Angeles    CA\n",
       "1516034  A-4239377        2  2019-08-23 13:42:50  Los Angeles    CA\n",
       "1516046  A-4239389        2  2019-08-23 15:45:43  Los Angeles    CA\n",
       "\n",
       "[39984 rows x 5 columns]"
      ]
     },
     "execution_count": 24,
     "metadata": {},
     "output_type": "execute_result"
    }
   ],
   "source": [
    "accident_df_5= accidents[\"City\"].isin([\"Los Angeles\"])\n",
    "accidents[accident_df_5]"
   ]
  },
  {
   "cell_type": "code",
   "execution_count": 25,
   "metadata": {},
   "outputs": [
    {
     "data": {
      "text/html": [
       "<div>\n",
       "<style scoped>\n",
       "    .dataframe tbody tr th:only-of-type {\n",
       "        vertical-align: middle;\n",
       "    }\n",
       "\n",
       "    .dataframe tbody tr th {\n",
       "        vertical-align: top;\n",
       "    }\n",
       "\n",
       "    .dataframe thead th {\n",
       "        text-align: right;\n",
       "    }\n",
       "</style>\n",
       "<table border=\"1\" class=\"dataframe\">\n",
       "  <thead>\n",
       "    <tr style=\"text-align: right;\">\n",
       "      <th></th>\n",
       "      <th>ID</th>\n",
       "      <th>Severity</th>\n",
       "      <th>Start_Time</th>\n",
       "      <th>City</th>\n",
       "      <th>State</th>\n",
       "    </tr>\n",
       "  </thead>\n",
       "  <tbody>\n",
       "    <tr>\n",
       "      <th>5360</th>\n",
       "      <td>A-2721960</td>\n",
       "      <td>2</td>\n",
       "      <td>2016-03-22 19:36:44</td>\n",
       "      <td>Los Angeles</td>\n",
       "      <td>CA</td>\n",
       "    </tr>\n",
       "    <tr>\n",
       "      <th>5364</th>\n",
       "      <td>A-2721964</td>\n",
       "      <td>2</td>\n",
       "      <td>2016-03-22 20:59:43</td>\n",
       "      <td>Los Angeles</td>\n",
       "      <td>CA</td>\n",
       "    </tr>\n",
       "    <tr>\n",
       "      <th>5379</th>\n",
       "      <td>A-2721979</td>\n",
       "      <td>3</td>\n",
       "      <td>2016-03-23 07:59:47</td>\n",
       "      <td>Los Angeles</td>\n",
       "      <td>CA</td>\n",
       "    </tr>\n",
       "    <tr>\n",
       "      <th>5397</th>\n",
       "      <td>A-2721997</td>\n",
       "      <td>2</td>\n",
       "      <td>2016-03-23 11:50:32</td>\n",
       "      <td>Los Angeles</td>\n",
       "      <td>CA</td>\n",
       "    </tr>\n",
       "    <tr>\n",
       "      <th>5399</th>\n",
       "      <td>A-2721999</td>\n",
       "      <td>2</td>\n",
       "      <td>2016-03-23 12:16:45</td>\n",
       "      <td>Los Angeles</td>\n",
       "      <td>CA</td>\n",
       "    </tr>\n",
       "    <tr>\n",
       "      <th>...</th>\n",
       "      <td>...</td>\n",
       "      <td>...</td>\n",
       "      <td>...</td>\n",
       "      <td>...</td>\n",
       "      <td>...</td>\n",
       "    </tr>\n",
       "    <tr>\n",
       "      <th>1515619</th>\n",
       "      <td>A-4238962</td>\n",
       "      <td>2</td>\n",
       "      <td>2019-08-22 17:07:14</td>\n",
       "      <td>Los Angeles</td>\n",
       "      <td>CA</td>\n",
       "    </tr>\n",
       "    <tr>\n",
       "      <th>1516027</th>\n",
       "      <td>A-4239370</td>\n",
       "      <td>3</td>\n",
       "      <td>2019-08-23 04:04:48</td>\n",
       "      <td>Los Angeles</td>\n",
       "      <td>CA</td>\n",
       "    </tr>\n",
       "    <tr>\n",
       "      <th>1516031</th>\n",
       "      <td>A-4239374</td>\n",
       "      <td>2</td>\n",
       "      <td>2019-08-23 12:52:31</td>\n",
       "      <td>Los Angeles</td>\n",
       "      <td>CA</td>\n",
       "    </tr>\n",
       "    <tr>\n",
       "      <th>1516034</th>\n",
       "      <td>A-4239377</td>\n",
       "      <td>2</td>\n",
       "      <td>2019-08-23 13:42:50</td>\n",
       "      <td>Los Angeles</td>\n",
       "      <td>CA</td>\n",
       "    </tr>\n",
       "    <tr>\n",
       "      <th>1516046</th>\n",
       "      <td>A-4239389</td>\n",
       "      <td>2</td>\n",
       "      <td>2019-08-23 15:45:43</td>\n",
       "      <td>Los Angeles</td>\n",
       "      <td>CA</td>\n",
       "    </tr>\n",
       "  </tbody>\n",
       "</table>\n",
       "<p>39984 rows × 5 columns</p>\n",
       "</div>"
      ],
      "text/plain": [
       "                ID Severity           Start_Time         City State\n",
       "5360     A-2721960        2  2016-03-22 19:36:44  Los Angeles    CA\n",
       "5364     A-2721964        2  2016-03-22 20:59:43  Los Angeles    CA\n",
       "5379     A-2721979        3  2016-03-23 07:59:47  Los Angeles    CA\n",
       "5397     A-2721997        2  2016-03-23 11:50:32  Los Angeles    CA\n",
       "5399     A-2721999        2  2016-03-23 12:16:45  Los Angeles    CA\n",
       "...            ...      ...                  ...          ...   ...\n",
       "1515619  A-4238962        2  2019-08-22 17:07:14  Los Angeles    CA\n",
       "1516027  A-4239370        3  2019-08-23 04:04:48  Los Angeles    CA\n",
       "1516031  A-4239374        2  2019-08-23 12:52:31  Los Angeles    CA\n",
       "1516034  A-4239377        2  2019-08-23 13:42:50  Los Angeles    CA\n",
       "1516046  A-4239389        2  2019-08-23 15:45:43  Los Angeles    CA\n",
       "\n",
       "[39984 rows x 5 columns]"
      ]
     },
     "execution_count": 25,
     "metadata": {},
     "output_type": "execute_result"
    }
   ],
   "source": [
    "accident_df_6= pd.DataFrame(accidents[accident_df_5])\n",
    "\n",
    "accident_df_6"
   ]
  },
  {
   "cell_type": "code",
   "execution_count": 26,
   "metadata": {},
   "outputs": [
    {
     "data": {
      "text/html": [
       "<div>\n",
       "<style scoped>\n",
       "    .dataframe tbody tr th:only-of-type {\n",
       "        vertical-align: middle;\n",
       "    }\n",
       "\n",
       "    .dataframe tbody tr th {\n",
       "        vertical-align: top;\n",
       "    }\n",
       "\n",
       "    .dataframe thead th {\n",
       "        text-align: right;\n",
       "    }\n",
       "</style>\n",
       "<table border=\"1\" class=\"dataframe\">\n",
       "  <thead>\n",
       "    <tr style=\"text-align: right;\">\n",
       "      <th></th>\n",
       "      <th>index</th>\n",
       "      <th>ID</th>\n",
       "      <th>Severity</th>\n",
       "      <th>Start_Time</th>\n",
       "      <th>City</th>\n",
       "      <th>State</th>\n",
       "    </tr>\n",
       "  </thead>\n",
       "  <tbody>\n",
       "    <tr>\n",
       "      <th>0</th>\n",
       "      <td>5360</td>\n",
       "      <td>A-2721960</td>\n",
       "      <td>2</td>\n",
       "      <td>2016-03-22 19:36:44</td>\n",
       "      <td>Los Angeles</td>\n",
       "      <td>CA</td>\n",
       "    </tr>\n",
       "    <tr>\n",
       "      <th>1</th>\n",
       "      <td>5364</td>\n",
       "      <td>A-2721964</td>\n",
       "      <td>2</td>\n",
       "      <td>2016-03-22 20:59:43</td>\n",
       "      <td>Los Angeles</td>\n",
       "      <td>CA</td>\n",
       "    </tr>\n",
       "    <tr>\n",
       "      <th>2</th>\n",
       "      <td>5379</td>\n",
       "      <td>A-2721979</td>\n",
       "      <td>3</td>\n",
       "      <td>2016-03-23 07:59:47</td>\n",
       "      <td>Los Angeles</td>\n",
       "      <td>CA</td>\n",
       "    </tr>\n",
       "    <tr>\n",
       "      <th>3</th>\n",
       "      <td>5397</td>\n",
       "      <td>A-2721997</td>\n",
       "      <td>2</td>\n",
       "      <td>2016-03-23 11:50:32</td>\n",
       "      <td>Los Angeles</td>\n",
       "      <td>CA</td>\n",
       "    </tr>\n",
       "    <tr>\n",
       "      <th>4</th>\n",
       "      <td>5399</td>\n",
       "      <td>A-2721999</td>\n",
       "      <td>2</td>\n",
       "      <td>2016-03-23 12:16:45</td>\n",
       "      <td>Los Angeles</td>\n",
       "      <td>CA</td>\n",
       "    </tr>\n",
       "    <tr>\n",
       "      <th>...</th>\n",
       "      <td>...</td>\n",
       "      <td>...</td>\n",
       "      <td>...</td>\n",
       "      <td>...</td>\n",
       "      <td>...</td>\n",
       "      <td>...</td>\n",
       "    </tr>\n",
       "    <tr>\n",
       "      <th>39979</th>\n",
       "      <td>1515619</td>\n",
       "      <td>A-4238962</td>\n",
       "      <td>2</td>\n",
       "      <td>2019-08-22 17:07:14</td>\n",
       "      <td>Los Angeles</td>\n",
       "      <td>CA</td>\n",
       "    </tr>\n",
       "    <tr>\n",
       "      <th>39980</th>\n",
       "      <td>1516027</td>\n",
       "      <td>A-4239370</td>\n",
       "      <td>3</td>\n",
       "      <td>2019-08-23 04:04:48</td>\n",
       "      <td>Los Angeles</td>\n",
       "      <td>CA</td>\n",
       "    </tr>\n",
       "    <tr>\n",
       "      <th>39981</th>\n",
       "      <td>1516031</td>\n",
       "      <td>A-4239374</td>\n",
       "      <td>2</td>\n",
       "      <td>2019-08-23 12:52:31</td>\n",
       "      <td>Los Angeles</td>\n",
       "      <td>CA</td>\n",
       "    </tr>\n",
       "    <tr>\n",
       "      <th>39982</th>\n",
       "      <td>1516034</td>\n",
       "      <td>A-4239377</td>\n",
       "      <td>2</td>\n",
       "      <td>2019-08-23 13:42:50</td>\n",
       "      <td>Los Angeles</td>\n",
       "      <td>CA</td>\n",
       "    </tr>\n",
       "    <tr>\n",
       "      <th>39983</th>\n",
       "      <td>1516046</td>\n",
       "      <td>A-4239389</td>\n",
       "      <td>2</td>\n",
       "      <td>2019-08-23 15:45:43</td>\n",
       "      <td>Los Angeles</td>\n",
       "      <td>CA</td>\n",
       "    </tr>\n",
       "  </tbody>\n",
       "</table>\n",
       "<p>39984 rows × 6 columns</p>\n",
       "</div>"
      ],
      "text/plain": [
       "         index         ID Severity           Start_Time         City State\n",
       "0         5360  A-2721960        2  2016-03-22 19:36:44  Los Angeles    CA\n",
       "1         5364  A-2721964        2  2016-03-22 20:59:43  Los Angeles    CA\n",
       "2         5379  A-2721979        3  2016-03-23 07:59:47  Los Angeles    CA\n",
       "3         5397  A-2721997        2  2016-03-23 11:50:32  Los Angeles    CA\n",
       "4         5399  A-2721999        2  2016-03-23 12:16:45  Los Angeles    CA\n",
       "...        ...        ...      ...                  ...          ...   ...\n",
       "39979  1515619  A-4238962        2  2019-08-22 17:07:14  Los Angeles    CA\n",
       "39980  1516027  A-4239370        3  2019-08-23 04:04:48  Los Angeles    CA\n",
       "39981  1516031  A-4239374        2  2019-08-23 12:52:31  Los Angeles    CA\n",
       "39982  1516034  A-4239377        2  2019-08-23 13:42:50  Los Angeles    CA\n",
       "39983  1516046  A-4239389        2  2019-08-23 15:45:43  Los Angeles    CA\n",
       "\n",
       "[39984 rows x 6 columns]"
      ]
     },
     "execution_count": 26,
     "metadata": {},
     "output_type": "execute_result"
    }
   ],
   "source": [
    "accident_df_7= accident_df_6.reset_index()\n",
    "\n",
    "accident_df_7"
   ]
  },
  {
   "cell_type": "code",
   "execution_count": 27,
   "metadata": {},
   "outputs": [
    {
     "name": "stdout",
     "output_type": "stream",
     "text": [
      "       date_time         ID Severity               counts         City State\n",
      "0           5360  A-2721960        2  2016-03-22 19:36:44  Los Angeles    CA\n",
      "1           5364  A-2721964        2  2016-03-22 20:59:43  Los Angeles    CA\n",
      "2           5379  A-2721979        3  2016-03-23 07:59:47  Los Angeles    CA\n",
      "3           5397  A-2721997        2  2016-03-23 11:50:32  Los Angeles    CA\n",
      "4           5399  A-2721999        2  2016-03-23 12:16:45  Los Angeles    CA\n",
      "...          ...        ...      ...                  ...          ...   ...\n",
      "39979    1515619  A-4238962        2  2019-08-22 17:07:14  Los Angeles    CA\n",
      "39980    1516027  A-4239370        3  2019-08-23 04:04:48  Los Angeles    CA\n",
      "39981    1516031  A-4239374        2  2019-08-23 12:52:31  Los Angeles    CA\n",
      "39982    1516034  A-4239377        2  2019-08-23 13:42:50  Los Angeles    CA\n",
      "39983    1516046  A-4239389        2  2019-08-23 15:45:43  Los Angeles    CA\n",
      "\n",
      "[39984 rows x 6 columns]\n"
     ]
    }
   ],
   "source": [
    "accident_df_8= accident_df_7.rename(columns={\"index\":\"date_time\", \"Start_Time\": \"counts\"})\n",
    "print(accident_df_8)"
   ]
  },
  {
   "cell_type": "code",
   "execution_count": 28,
   "metadata": {},
   "outputs": [],
   "source": [
    "accident_df_8['Months'] =pd.to_datetime(accident_df_8['counts']).dt.month\n",
    "accident_df_8['Minute'] =pd.to_datetime (accident_df_8['counts']).dt.minute\n",
    "accident_df_8['Hours'] = pd.to_datetime(accident_df_8['counts']).dt.hour\n",
    "accident_df_8['Year'] = pd.to_datetime(accident_df_8['counts']).dt.year\n",
    "accident_df_8['Day'] =pd.to_datetime(accident_df_8['counts']).dt.day"
   ]
  },
  {
   "cell_type": "code",
   "execution_count": 29,
   "metadata": {},
   "outputs": [
    {
     "name": "stdout",
     "output_type": "stream",
     "text": [
      "       Year  Months  Day  Hours  Minute\n",
      "0      2016       3   22     19      36\n",
      "1      2016       3   22     20      59\n",
      "2      2016       3   23      7      59\n",
      "3      2016       3   23     11      50\n",
      "4      2016       3   23     12      16\n",
      "...     ...     ...  ...    ...     ...\n",
      "39979  2019       8   22     17       7\n",
      "39980  2019       8   23      4       4\n",
      "39981  2019       8   23     12      52\n",
      "39982  2019       8   23     13      42\n",
      "39983  2019       8   23     15      45\n",
      "\n",
      "[39984 rows x 5 columns]\n"
     ]
    }
   ],
   "source": [
    "accident_df_9= accident_df_8[['Year','Months','Day','Hours','Minute']]\n",
    "print(accident_df_9)"
   ]
  },
  {
   "cell_type": "code",
   "execution_count": 30,
   "metadata": {},
   "outputs": [
    {
     "name": "stderr",
     "output_type": "stream",
     "text": [
      "/home/turkai/anaconda3/lib/python3.7/site-packages/ipykernel_launcher.py:2: SettingWithCopyWarning: \n",
      "A value is trying to be set on a copy of a slice from a DataFrame.\n",
      "Try using .loc[row_indexer,col_indexer] = value instead\n",
      "\n",
      "See the caveats in the documentation: https://pandas.pydata.org/pandas-docs/stable/user_guide/indexing.html#returning-a-view-versus-a-copy\n",
      "  \n"
     ]
    }
   ],
   "source": [
    "sure= [str(i).split('Huors')[-1].strip() for i in accident_df_9.Hours]\n",
    "accident_df_9['Hours']= sure\n",
    "plt.show()"
   ]
  },
  {
   "cell_type": "code",
   "execution_count": 31,
   "metadata": {},
   "outputs": [
    {
     "data": {
      "text/plain": [
       "<matplotlib.axes._subplots.AxesSubplot at 0x7f56162c7ed0>"
      ]
     },
     "execution_count": 31,
     "metadata": {},
     "output_type": "execute_result"
    },
    {
     "data": {
      "image/png": "[encoded data removed]",
      "text/plain": [
       "<Figure size 960x480 with 1 Axes>"
      ]
     },
     "metadata": {
      "needs_background": "light"
     },
     "output_type": "display_data"
    }
   ],
   "source": [
    "fig, ax = plt.subplots(figsize = (12,6), dpi = 80)\n",
    "\n",
    "sns.distplot(accident_df_9.Hours, bins=24, kde=False, norm_hist=True)\n"
   ]
  },
  {
   "cell_type": "code",
   "execution_count": 32,
   "metadata": {},
   "outputs": [
    {
     "data": {
      "text/plain": [
       "Text(0.5, 1.0, 'saatler')"
      ]
     },
     "execution_count": 32,
     "metadata": {},
     "output_type": "execute_result"
    },
    {
     "data": {
      "image/png": "[encoded data removed]",
      "text/plain": [
       "<Figure size 432x288 with 1 Axes>"
      ]
     },
     "metadata": {
      "needs_background": "light"
     },
     "output_type": "display_data"
    }
   ],
   "source": [
    "accident_df_9['Hours'].value_counts().plot.barh().set_title(\"saatler\")"
   ]
  },
  {
   "cell_type": "code",
   "execution_count": 33,
   "metadata": {},
   "outputs": [
    {
     "data": {
      "text/plain": [
       "[Text(0, 0, '0'),\n",
       " Text(0, 0, '1'),\n",
       " Text(0, 0, '2'),\n",
       " Text(0, 0, '3'),\n",
       " Text(0, 0, '4'),\n",
       " Text(0, 0, '5'),\n",
       " Text(0, 0, '6'),\n",
       " Text(0, 0, '7'),\n",
       " Text(0, 0, '8'),\n",
       " Text(0, 0, '9'),\n",
       " Text(0, 0, '10'),\n",
       " Text(0, 0, '11'),\n",
       " Text(0, 0, '12'),\n",
       " Text(0, 0, '13'),\n",
       " Text(0, 0, '14'),\n",
       " Text(0, 0, '15'),\n",
       " Text(0, 0, '16'),\n",
       " Text(0, 0, '17'),\n",
       " Text(0, 0, '18'),\n",
       " Text(0, 0, '19'),\n",
       " Text(0, 0, '20'),\n",
       " Text(0, 0, '21'),\n",
       " Text(0, 0, '22'),\n",
       " Text(0, 0, '23')]"
      ]
     },
     "execution_count": 33,
     "metadata": {},
     "output_type": "execute_result"
    },
    {
     "data": {
      "image/png": "[encoded data removed]",
      "text/plain": [
       "<Figure size 432x288 with 1 Axes>"
      ]
     },
     "metadata": {
      "needs_background": "light"
     },
     "output_type": "display_data"
    }
   ],
   "source": [
    "p= sns.countplot(accident_df_9.Hours)\n",
    "p.set_xticklabels([x for x in range(0,25)])\n",
    "\n",
    "\n"
   ]
  },
  {
   "cell_type": "code",
   "execution_count": 34,
   "metadata": {},
   "outputs": [
    {
     "data": {
      "text/html": [
       "<div>\n",
       "<style scoped>\n",
       "    .dataframe tbody tr th:only-of-type {\n",
       "        vertical-align: middle;\n",
       "    }\n",
       "\n",
       "    .dataframe tbody tr th {\n",
       "        vertical-align: top;\n",
       "    }\n",
       "\n",
       "    .dataframe thead th {\n",
       "        text-align: right;\n",
       "    }\n",
       "</style>\n",
       "<table border=\"1\" class=\"dataframe\">\n",
       "  <thead>\n",
       "    <tr style=\"text-align: right;\">\n",
       "      <th></th>\n",
       "      <th>Year</th>\n",
       "      <th>Months</th>\n",
       "      <th>Day</th>\n",
       "      <th>Hours</th>\n",
       "      <th>Minute</th>\n",
       "    </tr>\n",
       "  </thead>\n",
       "  <tbody>\n",
       "  </tbody>\n",
       "</table>\n",
       "</div>"
      ],
      "text/plain": [
       "Empty DataFrame\n",
       "Columns: [Year, Months, Day, Hours, Minute]\n",
       "Index: []"
      ]
     },
     "execution_count": 34,
     "metadata": {},
     "output_type": "execute_result"
    }
   ],
   "source": [
    "accident_df_9[accident_df_9['Hours'].str.contains('<')]"
   ]
  },
  {
   "cell_type": "code",
   "execution_count": 35,
   "metadata": {},
   "outputs": [
    {
     "name": "stdout",
     "output_type": "stream",
     "text": [
      "       Year  Months  Day Hours  Minute      Araliklar\n",
      "0      2016       3   22    19      36            Eve\n",
      "1      2016       3   22    20      59            Eve\n",
      "2      2016       3   23     7      59  Early_Morning\n",
      "3      2016       3   23    11      50        Morning\n",
      "4      2016       3   23    12      16        Morning\n",
      "...     ...     ...  ...   ...     ...            ...\n",
      "39979  2019       8   22    17       7            Eve\n",
      "39980  2019       8   23     4       4     Late_Night\n",
      "39981  2019       8   23    12      52        Morning\n",
      "39982  2019       8   23    13      42           Noon\n",
      "39983  2019       8   23    15      45           Noon\n",
      "\n",
      "[39984 rows x 6 columns]\n"
     ]
    },
    {
     "name": "stderr",
     "output_type": "stream",
     "text": [
      "/home/turkai/anaconda3/lib/python3.7/site-packages/ipykernel_launcher.py:3: SettingWithCopyWarning: \n",
      "A value is trying to be set on a copy of a slice from a DataFrame.\n",
      "Try using .loc[row_indexer,col_indexer] = value instead\n",
      "\n",
      "See the caveats in the documentation: https://pandas.pydata.org/pandas-docs/stable/user_guide/indexing.html#returning-a-view-versus-a-copy\n",
      "  This is separate from the ipykernel package so we can avoid doing imports until\n"
     ]
    }
   ],
   "source": [
    "b = [0,4,8,12,16,20,24]\n",
    "l = ['Late_Night', 'Early_Morning','Morning','Noon','Eve','Night']\n",
    "accident_df_9['Araliklar'] = pd.cut(accident_df_9['Hours'].astype(int), bins=b, labels=l, include_lowest=True)\n",
    "\n",
    "\n",
    "\n",
    "# accidents_df_9['aralık_bır']= accident_df_9['Hours'].map(lambda x: x<3,accident_df_9['Hours'])\n",
    "# accidents_df_9['aralık_ıkı']= (accident_df_9['Hours'].map(lambda x:2<x<6,Hours))\n",
    "# accidents_df_9['aralık_uc']= (accident_df_9['Hours'].map(lambda x:5<x<9,Hours))\n",
    "# accidents_df_9['aralık_dort']= (accident_df_9['Hours'].map(lambda x:8<x<12, Hours))\n",
    "# accidents_df_9['aralık_bes']= (accident_df_9['Hours'].map(lambda x:11<X<15,Hours))\n",
    "# accidents_df_9['aralık_altı']= (accident_df_9['Hours'].map(lambda x:14<X<18,Hours))\n",
    "# accidents_df_9['aralık_yedı']= (accident_df_9['Hours'].map(lambda x:17<X<21,Hours))\n",
    "# accidents_df_9['aralık_sekız']= (accident_df_9['Hours'].map(lambda x:20<X<24,Hours))\n",
    "\n",
    "print(accident_df_9)"
   ]
  },
  {
   "cell_type": "code",
   "execution_count": 36,
   "metadata": {},
   "outputs": [
    {
     "data": {
      "text/plain": [
       "[Text(0, 0, 'Late_Night'),\n",
       " Text(0, 0, 'Early_Morning'),\n",
       " Text(0, 0, 'Morning'),\n",
       " Text(0, 0, 'Noon'),\n",
       " Text(0, 0, 'Eve'),\n",
       " Text(0, 0, 'Night')]"
      ]
     },
     "execution_count": 36,
     "metadata": {},
     "output_type": "execute_result"
    },
    {
     "data": {
      "image/png": "[encoded data removed]",
      "text/plain": [
       "<Figure size 432x288 with 1 Axes>"
      ]
     },
     "metadata": {
      "needs_background": "light"
     },
     "output_type": "display_data"
    }
   ],
   "source": [
    "p1= sns.countplot(accident_df_9.Araliklar)\n",
    "p1.set_xticklabels([x for x in l])"
   ]
  },
  {
   "cell_type": "code",
   "execution_count": 37,
   "metadata": {},
   "outputs": [
    {
     "name": "stderr",
     "output_type": "stream",
     "text": [
      "/home/turkai/anaconda3/lib/python3.7/site-packages/ipykernel_launcher.py:8: SettingWithCopyWarning: \n",
      "A value is trying to be set on a copy of a slice from a DataFrame.\n",
      "Try using .loc[row_indexer,col_indexer] = value instead\n",
      "\n",
      "See the caveats in the documentation: https://pandas.pydata.org/pandas-docs/stable/user_guide/indexing.html#returning-a-view-versus-a-copy\n",
      "  \n"
     ]
    },
    {
     "data": {
      "text/html": [
       "<div>\n",
       "<style scoped>\n",
       "    .dataframe tbody tr th:only-of-type {\n",
       "        vertical-align: middle;\n",
       "    }\n",
       "\n",
       "    .dataframe tbody tr th {\n",
       "        vertical-align: top;\n",
       "    }\n",
       "\n",
       "    .dataframe thead th {\n",
       "        text-align: right;\n",
       "    }\n",
       "</style>\n",
       "<table border=\"1\" class=\"dataframe\">\n",
       "  <thead>\n",
       "    <tr style=\"text-align: right;\">\n",
       "      <th></th>\n",
       "      <th>Year</th>\n",
       "      <th>Months</th>\n",
       "      <th>Day</th>\n",
       "      <th>Hours</th>\n",
       "      <th>Minute</th>\n",
       "      <th>Araliklar</th>\n",
       "      <th>weekday</th>\n",
       "    </tr>\n",
       "  </thead>\n",
       "  <tbody>\n",
       "    <tr>\n",
       "      <th>0</th>\n",
       "      <td>2016</td>\n",
       "      <td>3</td>\n",
       "      <td>22</td>\n",
       "      <td>19</td>\n",
       "      <td>36</td>\n",
       "      <td>Eve</td>\n",
       "      <td>Tuesday</td>\n",
       "    </tr>\n",
       "    <tr>\n",
       "      <th>1</th>\n",
       "      <td>2016</td>\n",
       "      <td>3</td>\n",
       "      <td>22</td>\n",
       "      <td>20</td>\n",
       "      <td>59</td>\n",
       "      <td>Eve</td>\n",
       "      <td>Tuesday</td>\n",
       "    </tr>\n",
       "    <tr>\n",
       "      <th>2</th>\n",
       "      <td>2016</td>\n",
       "      <td>3</td>\n",
       "      <td>23</td>\n",
       "      <td>7</td>\n",
       "      <td>59</td>\n",
       "      <td>Early_Morning</td>\n",
       "      <td>Wednesday</td>\n",
       "    </tr>\n",
       "    <tr>\n",
       "      <th>3</th>\n",
       "      <td>2016</td>\n",
       "      <td>3</td>\n",
       "      <td>23</td>\n",
       "      <td>11</td>\n",
       "      <td>50</td>\n",
       "      <td>Morning</td>\n",
       "      <td>Wednesday</td>\n",
       "    </tr>\n",
       "    <tr>\n",
       "      <th>4</th>\n",
       "      <td>2016</td>\n",
       "      <td>3</td>\n",
       "      <td>23</td>\n",
       "      <td>12</td>\n",
       "      <td>16</td>\n",
       "      <td>Morning</td>\n",
       "      <td>Wednesday</td>\n",
       "    </tr>\n",
       "    <tr>\n",
       "      <th>...</th>\n",
       "      <td>...</td>\n",
       "      <td>...</td>\n",
       "      <td>...</td>\n",
       "      <td>...</td>\n",
       "      <td>...</td>\n",
       "      <td>...</td>\n",
       "      <td>...</td>\n",
       "    </tr>\n",
       "    <tr>\n",
       "      <th>39979</th>\n",
       "      <td>2019</td>\n",
       "      <td>8</td>\n",
       "      <td>22</td>\n",
       "      <td>17</td>\n",
       "      <td>7</td>\n",
       "      <td>Eve</td>\n",
       "      <td>Thursday</td>\n",
       "    </tr>\n",
       "    <tr>\n",
       "      <th>39980</th>\n",
       "      <td>2019</td>\n",
       "      <td>8</td>\n",
       "      <td>23</td>\n",
       "      <td>4</td>\n",
       "      <td>4</td>\n",
       "      <td>Late_Night</td>\n",
       "      <td>Friday</td>\n",
       "    </tr>\n",
       "    <tr>\n",
       "      <th>39981</th>\n",
       "      <td>2019</td>\n",
       "      <td>8</td>\n",
       "      <td>23</td>\n",
       "      <td>12</td>\n",
       "      <td>52</td>\n",
       "      <td>Morning</td>\n",
       "      <td>Friday</td>\n",
       "    </tr>\n",
       "    <tr>\n",
       "      <th>39982</th>\n",
       "      <td>2019</td>\n",
       "      <td>8</td>\n",
       "      <td>23</td>\n",
       "      <td>13</td>\n",
       "      <td>42</td>\n",
       "      <td>Noon</td>\n",
       "      <td>Friday</td>\n",
       "    </tr>\n",
       "    <tr>\n",
       "      <th>39983</th>\n",
       "      <td>2019</td>\n",
       "      <td>8</td>\n",
       "      <td>23</td>\n",
       "      <td>15</td>\n",
       "      <td>45</td>\n",
       "      <td>Noon</td>\n",
       "      <td>Friday</td>\n",
       "    </tr>\n",
       "  </tbody>\n",
       "</table>\n",
       "<p>39984 rows × 7 columns</p>\n",
       "</div>"
      ],
      "text/plain": [
       "       Year  Months  Day Hours  Minute      Araliklar    weekday\n",
       "0      2016       3   22    19      36            Eve    Tuesday\n",
       "1      2016       3   22    20      59            Eve    Tuesday\n",
       "2      2016       3   23     7      59  Early_Morning  Wednesday\n",
       "3      2016       3   23    11      50        Morning  Wednesday\n",
       "4      2016       3   23    12      16        Morning  Wednesday\n",
       "...     ...     ...  ...   ...     ...            ...        ...\n",
       "39979  2019       8   22    17       7            Eve   Thursday\n",
       "39980  2019       8   23     4       4     Late_Night     Friday\n",
       "39981  2019       8   23    12      52        Morning     Friday\n",
       "39982  2019       8   23    13      42           Noon     Friday\n",
       "39983  2019       8   23    15      45           Noon     Friday\n",
       "\n",
       "[39984 rows x 7 columns]"
      ]
     },
     "execution_count": 37,
     "metadata": {},
     "output_type": "execute_result"
    }
   ],
   "source": [
    "def getDayNumber(year, month, day):\n",
    "    weekdays = [\"Monday\", \"Tuesday\", \"Wednesday\", \"Thursday\", \"Friday\", \"Saturday\", \"Sunday\"]\n",
    "    dayNumber = calendar.weekday(year, month, day)\n",
    "    return (weekdays[dayNumber])\n",
    "\n",
    "\n",
    "\n",
    "accident_df_9['weekday']= accident_df_9.apply(lambda x: getDayNumber(x['Year'], x['Months'], x['Day']), axis=1)\n",
    "\n",
    "accident_df_9\n"
   ]
  },
  {
   "cell_type": "code",
   "execution_count": 38,
   "metadata": {},
   "outputs": [
    {
     "data": {
      "text/plain": [
       "Tuesday      6893\n",
       "Friday       6762\n",
       "Monday       6393\n",
       "Wednesday    6296\n",
       "Thursday     6245\n",
       "Saturday     3790\n",
       "Sunday       3605\n",
       "Name: weekday, dtype: int64"
      ]
     },
     "execution_count": 38,
     "metadata": {},
     "output_type": "execute_result"
    }
   ],
   "source": [
    "accident_df_9[\"weekday\"].value_counts()"
   ]
  },
  {
   "cell_type": "code",
   "execution_count": 39,
   "metadata": {},
   "outputs": [
    {
     "data": {
      "text/plain": [
       "weekday\n",
       "Friday       6762\n",
       "Monday       6393\n",
       "Saturday     3790\n",
       "Sunday       3605\n",
       "Thursday     6245\n",
       "Tuesday      6893\n",
       "Wednesday    6296\n",
       "Name: weekday, dtype: int64"
      ]
     },
     "execution_count": 39,
     "metadata": {},
     "output_type": "execute_result"
    }
   ],
   "source": [
    "day = accident_df_9.groupby(\"weekday\")[\"weekday\"].count()\n",
    "day"
   ]
  },
  {
   "cell_type": "code",
   "execution_count": 40,
   "metadata": {},
   "outputs": [
    {
     "ename": "NameError",
     "evalue": "name 'weekdays' is not defined",
     "output_type": "error",
     "traceback": [
      "\u001b[0;31m---------------------------------------------------------------------------\u001b[0m",
      "\u001b[0;31mNameError\u001b[0m                                 Traceback (most recent call last)",
      "\u001b[0;32m<ipython-input-40-79c04178d149>\u001b[0m in \u001b[0;36m<module>\u001b[0;34m\u001b[0m\n\u001b[1;32m      1\u001b[0m \u001b[0mp2\u001b[0m\u001b[0;34m=\u001b[0m \u001b[0msns\u001b[0m\u001b[0;34m.\u001b[0m\u001b[0mcountplot\u001b[0m\u001b[0;34m(\u001b[0m\u001b[0maccident_df_9\u001b[0m\u001b[0;34m.\u001b[0m\u001b[0mweekday\u001b[0m\u001b[0;34m)\u001b[0m\u001b[0;34m\u001b[0m\u001b[0;34m\u001b[0m\u001b[0m\n\u001b[0;32m----> 2\u001b[0;31m \u001b[0mp2\u001b[0m\u001b[0;34m.\u001b[0m\u001b[0mset_xticklabels\u001b[0m\u001b[0;34m(\u001b[0m\u001b[0;34m[\u001b[0m\u001b[0mx\u001b[0m \u001b[0;32mfor\u001b[0m \u001b[0mx\u001b[0m \u001b[0;32min\u001b[0m \u001b[0mweekdays\u001b[0m\u001b[0;34m]\u001b[0m\u001b[0;34m)\u001b[0m\u001b[0;34m\u001b[0m\u001b[0;34m\u001b[0m\u001b[0m\n\u001b[0m",
      "\u001b[0;31mNameError\u001b[0m: name 'weekdays' is not defined"
     ]
    },
    {
     "data": {
      "image/png": "[encoded data removed]",
      "text/plain": [
       "<Figure size 432x288 with 1 Axes>"
      ]
     },
     "metadata": {
      "needs_background": "light"
     },
     "output_type": "display_data"
    }
   ],
   "source": [
    "p2= sns.countplot(accident_df_9.weekday)\n",
    "p2.set_xticklabels([x for x in weekdays])"
   ]
  },
  {
   "cell_type": "code",
   "execution_count": 41,
   "metadata": {},
   "outputs": [
    {
     "data": {
      "text/html": [
       "<div>\n",
       "<style scoped>\n",
       "    .dataframe tbody tr th:only-of-type {\n",
       "        vertical-align: middle;\n",
       "    }\n",
       "\n",
       "    .dataframe tbody tr th {\n",
       "        vertical-align: top;\n",
       "    }\n",
       "\n",
       "    .dataframe thead th {\n",
       "        text-align: right;\n",
       "    }\n",
       "</style>\n",
       "<table border=\"1\" class=\"dataframe\">\n",
       "  <thead>\n",
       "    <tr style=\"text-align: right;\">\n",
       "      <th></th>\n",
       "      <th></th>\n",
       "      <th>Day</th>\n",
       "      <th>Minute</th>\n",
       "      <th>Months</th>\n",
       "      <th>Year</th>\n",
       "    </tr>\n",
       "    <tr>\n",
       "      <th>weekday</th>\n",
       "      <th>Hours</th>\n",
       "      <th></th>\n",
       "      <th></th>\n",
       "      <th></th>\n",
       "      <th></th>\n",
       "    </tr>\n",
       "  </thead>\n",
       "  <tbody>\n",
       "    <tr>\n",
       "      <th rowspan=\"5\" valign=\"top\">Friday</th>\n",
       "      <th>0</th>\n",
       "      <td>16.112903</td>\n",
       "      <td>26.225806</td>\n",
       "      <td>8.185484</td>\n",
       "      <td>2019.645161</td>\n",
       "    </tr>\n",
       "    <tr>\n",
       "      <th>1</th>\n",
       "      <td>15.607407</td>\n",
       "      <td>26.977778</td>\n",
       "      <td>9.303704</td>\n",
       "      <td>2019.607407</td>\n",
       "    </tr>\n",
       "    <tr>\n",
       "      <th>10</th>\n",
       "      <td>16.633466</td>\n",
       "      <td>28.912351</td>\n",
       "      <td>7.266932</td>\n",
       "      <td>2018.673307</td>\n",
       "    </tr>\n",
       "    <tr>\n",
       "      <th>11</th>\n",
       "      <td>15.496644</td>\n",
       "      <td>30.476510</td>\n",
       "      <td>6.667785</td>\n",
       "      <td>2018.986577</td>\n",
       "    </tr>\n",
       "    <tr>\n",
       "      <th>12</th>\n",
       "      <td>16.671642</td>\n",
       "      <td>31.965174</td>\n",
       "      <td>7.497512</td>\n",
       "      <td>2018.845771</td>\n",
       "    </tr>\n",
       "    <tr>\n",
       "      <th>...</th>\n",
       "      <th>...</th>\n",
       "      <td>...</td>\n",
       "      <td>...</td>\n",
       "      <td>...</td>\n",
       "      <td>...</td>\n",
       "    </tr>\n",
       "    <tr>\n",
       "      <th rowspan=\"5\" valign=\"top\">Wednesday</th>\n",
       "      <th>5</th>\n",
       "      <td>16.055866</td>\n",
       "      <td>32.910615</td>\n",
       "      <td>7.396648</td>\n",
       "      <td>2018.636872</td>\n",
       "    </tr>\n",
       "    <tr>\n",
       "      <th>6</th>\n",
       "      <td>15.727273</td>\n",
       "      <td>28.830579</td>\n",
       "      <td>6.342975</td>\n",
       "      <td>2018.776860</td>\n",
       "    </tr>\n",
       "    <tr>\n",
       "      <th>7</th>\n",
       "      <td>16.582418</td>\n",
       "      <td>32.025641</td>\n",
       "      <td>6.336996</td>\n",
       "      <td>2018.721612</td>\n",
       "    </tr>\n",
       "    <tr>\n",
       "      <th>8</th>\n",
       "      <td>15.096154</td>\n",
       "      <td>29.923077</td>\n",
       "      <td>7.163462</td>\n",
       "      <td>2018.669872</td>\n",
       "    </tr>\n",
       "    <tr>\n",
       "      <th>9</th>\n",
       "      <td>14.589641</td>\n",
       "      <td>30.629482</td>\n",
       "      <td>7.470120</td>\n",
       "      <td>2018.605578</td>\n",
       "    </tr>\n",
       "  </tbody>\n",
       "</table>\n",
       "<p>168 rows × 4 columns</p>\n",
       "</div>"
      ],
      "text/plain": [
       "                       Day     Minute    Months         Year\n",
       "weekday   Hours                                             \n",
       "Friday    0      16.112903  26.225806  8.185484  2019.645161\n",
       "          1      15.607407  26.977778  9.303704  2019.607407\n",
       "          10     16.633466  28.912351  7.266932  2018.673307\n",
       "          11     15.496644  30.476510  6.667785  2018.986577\n",
       "          12     16.671642  31.965174  7.497512  2018.845771\n",
       "...                    ...        ...       ...          ...\n",
       "Wednesday 5      16.055866  32.910615  7.396648  2018.636872\n",
       "          6      15.727273  28.830579  6.342975  2018.776860\n",
       "          7      16.582418  32.025641  6.336996  2018.721612\n",
       "          8      15.096154  29.923077  7.163462  2018.669872\n",
       "          9      14.589641  30.629482  7.470120  2018.605578\n",
       "\n",
       "[168 rows x 4 columns]"
      ]
     },
     "execution_count": 41,
     "metadata": {},
     "output_type": "execute_result"
    }
   ],
   "source": [
    "df8= accident_df_9.groupby(['weekday','Hours'])\n",
    "table = pd.pivot_table(accident_df_9,index=['weekday','Hours'])\n",
    "table\n",
    "#table.plot(kind='bar')"
   ]
  },
  {
   "cell_type": "code",
   "execution_count": 42,
   "metadata": {},
   "outputs": [
    {
     "data": {
      "text/html": [
       "<div>\n",
       "<style scoped>\n",
       "    .dataframe tbody tr th:only-of-type {\n",
       "        vertical-align: middle;\n",
       "    }\n",
       "\n",
       "    .dataframe tbody tr th {\n",
       "        vertical-align: top;\n",
       "    }\n",
       "\n",
       "    .dataframe thead th {\n",
       "        text-align: right;\n",
       "    }\n",
       "</style>\n",
       "<table border=\"1\" class=\"dataframe\">\n",
       "  <thead>\n",
       "    <tr style=\"text-align: right;\">\n",
       "      <th></th>\n",
       "      <th>weekday</th>\n",
       "    </tr>\n",
       "    <tr>\n",
       "      <th>weekday</th>\n",
       "      <th></th>\n",
       "    </tr>\n",
       "  </thead>\n",
       "  <tbody>\n",
       "    <tr>\n",
       "      <th>Friday</th>\n",
       "      <td>591</td>\n",
       "    </tr>\n",
       "    <tr>\n",
       "      <th>Monday</th>\n",
       "      <td>684</td>\n",
       "    </tr>\n",
       "    <tr>\n",
       "      <th>Saturday</th>\n",
       "      <td>749</td>\n",
       "    </tr>\n",
       "    <tr>\n",
       "      <th>Sunday</th>\n",
       "      <td>695</td>\n",
       "    </tr>\n",
       "    <tr>\n",
       "      <th>Thursday</th>\n",
       "      <td>597</td>\n",
       "    </tr>\n",
       "    <tr>\n",
       "      <th>Tuesday</th>\n",
       "      <td>565</td>\n",
       "    </tr>\n",
       "    <tr>\n",
       "      <th>Wednesday</th>\n",
       "      <td>613</td>\n",
       "    </tr>\n",
       "  </tbody>\n",
       "</table>\n",
       "</div>"
      ],
      "text/plain": [
       "           weekday\n",
       "weekday           \n",
       "Friday         591\n",
       "Monday         684\n",
       "Saturday       749\n",
       "Sunday         695\n",
       "Thursday       597\n",
       "Tuesday        565\n",
       "Wednesday      613"
      ]
     },
     "execution_count": 42,
     "metadata": {},
     "output_type": "execute_result"
    }
   ],
   "source": [
    "late_date=  pd.DataFrame(accident_df_9['weekday'].loc[accident_df_9['Araliklar']=='Late_Night'].groupby(accident_df_9['weekday']).count())\n",
    "early_date= pd.DataFrame(accident_df_9['weekday'].loc[accident_df_9['Araliklar']=='Early_Morning'].groupby(accident_df_9['weekday']).count())\n",
    "morning= pd.DataFrame(accident_df_9['weekday'].loc[accident_df_9['Araliklar']=='Morning'].groupby(accident_df_9['weekday']).count())\n",
    "noon_date= pd.DataFrame(accident_df_9['weekday'].loc[accident_df_9['Araliklar']=='Noon'].groupby(accident_df_9['weekday']).count())\n",
    "eve_date= pd.DataFrame(accident_df_9['weekday'].loc[accident_df_9['Araliklar']=='Eve'].groupby(accident_df_9['weekday']).count())\n",
    "night_date= pd.DataFrame(accident_df_9['weekday'].loc[accident_df_9['Araliklar']=='Night'].groupby(accident_df_9['weekday']).count())\n",
    "late_date"
   ]
  },
  {
   "cell_type": "code",
   "execution_count": 43,
   "metadata": {},
   "outputs": [
    {
     "data": {
      "text/html": [
       "<div>\n",
       "<style scoped>\n",
       "    .dataframe tbody tr th:only-of-type {\n",
       "        vertical-align: middle;\n",
       "    }\n",
       "\n",
       "    .dataframe tbody tr th {\n",
       "        vertical-align: top;\n",
       "    }\n",
       "\n",
       "    .dataframe thead th {\n",
       "        text-align: right;\n",
       "    }\n",
       "</style>\n",
       "<table border=\"1\" class=\"dataframe\">\n",
       "  <thead>\n",
       "    <tr style=\"text-align: right;\">\n",
       "      <th></th>\n",
       "      <th>gunler</th>\n",
       "      <th>Toplam_kaza</th>\n",
       "    </tr>\n",
       "  </thead>\n",
       "  <tbody>\n",
       "    <tr>\n",
       "      <th>0</th>\n",
       "      <td>0</td>\n",
       "      <td>684</td>\n",
       "    </tr>\n",
       "    <tr>\n",
       "      <th>1</th>\n",
       "      <td>1</td>\n",
       "      <td>565</td>\n",
       "    </tr>\n",
       "    <tr>\n",
       "      <th>2</th>\n",
       "      <td>2</td>\n",
       "      <td>613</td>\n",
       "    </tr>\n",
       "    <tr>\n",
       "      <th>3</th>\n",
       "      <td>3</td>\n",
       "      <td>597</td>\n",
       "    </tr>\n",
       "    <tr>\n",
       "      <th>4</th>\n",
       "      <td>4</td>\n",
       "      <td>591</td>\n",
       "    </tr>\n",
       "    <tr>\n",
       "      <th>5</th>\n",
       "      <td>5</td>\n",
       "      <td>749</td>\n",
       "    </tr>\n",
       "    <tr>\n",
       "      <th>6</th>\n",
       "      <td>6</td>\n",
       "      <td>695</td>\n",
       "    </tr>\n",
       "  </tbody>\n",
       "</table>\n",
       "</div>"
      ],
      "text/plain": [
       "   gunler  Toplam_kaza\n",
       "0       0          684\n",
       "1       1          565\n",
       "2       2          613\n",
       "3       3          597\n",
       "4       4          591\n",
       "5       5          749\n",
       "6       6          695"
      ]
     },
     "execution_count": 43,
     "metadata": {},
     "output_type": "execute_result"
    }
   ],
   "source": [
    "late_date_1= pd.DataFrame({'gunler': [0, 1, 2, 3, 4, 5, 6],\n",
    "               'Toplam_kaza':              [late_date['weekday'].loc[late_date.index=='Monday'].sum(), \n",
    "                                            late_date['weekday'].loc[late_date.index=='Tuesday'].sum(),      \n",
    "                                            late_date['weekday'].loc[late_date.index=='Wednesday'].sum(), \n",
    "                                            late_date['weekday'].loc[late_date.index=='Thursday'].sum(), \n",
    "                                            late_date['weekday'].loc[late_date.index=='Friday'].sum(),\n",
    "                                            late_date['weekday'].loc[late_date.index=='Saturday'].sum(), \n",
    "                                            late_date['weekday'].loc[late_date.index=='Sunday'].sum()]})\n",
    "\n",
    "late_date_1"
   ]
  },
  {
   "cell_type": "code",
   "execution_count": 44,
   "metadata": {},
   "outputs": [
    {
     "data": {
      "image/png": "[encoded data removed]",
      "text/plain": [
       "<Figure size 720x360 with 1 Axes>"
      ]
     },
     "metadata": {
      "needs_background": "light"
     },
     "output_type": "display_data"
    }
   ],
   "source": [
    "cevirilmis_r=list(late_date_1.gunler)\n",
    "cevirilmis_p= list(late_date_1.Toplam_kaza)\n",
    "fig = plt.figure(figsize = (10, 5))\n",
    "plt.bar(cevirilmis_r, cevirilmis_p, color ='maroon',\n",
    "        width = 0.4)\n",
    " \n",
    "plt.show()"
   ]
  },
  {
   "cell_type": "code",
   "execution_count": 45,
   "metadata": {},
   "outputs": [
    {
     "data": {
      "text/html": [
       "<div>\n",
       "<style scoped>\n",
       "    .dataframe tbody tr th:only-of-type {\n",
       "        vertical-align: middle;\n",
       "    }\n",
       "\n",
       "    .dataframe tbody tr th {\n",
       "        vertical-align: top;\n",
       "    }\n",
       "\n",
       "    .dataframe thead th {\n",
       "        text-align: right;\n",
       "    }\n",
       "</style>\n",
       "<table border=\"1\" class=\"dataframe\">\n",
       "  <thead>\n",
       "    <tr style=\"text-align: right;\">\n",
       "      <th></th>\n",
       "      <th>gunler</th>\n",
       "      <th>Toplam_kaza</th>\n",
       "    </tr>\n",
       "  </thead>\n",
       "  <tbody>\n",
       "    <tr>\n",
       "      <th>0</th>\n",
       "      <td>0</td>\n",
       "      <td>971</td>\n",
       "    </tr>\n",
       "    <tr>\n",
       "      <th>1</th>\n",
       "      <td>1</td>\n",
       "      <td>994</td>\n",
       "    </tr>\n",
       "    <tr>\n",
       "      <th>2</th>\n",
       "      <td>2</td>\n",
       "      <td>1006</td>\n",
       "    </tr>\n",
       "    <tr>\n",
       "      <th>3</th>\n",
       "      <td>3</td>\n",
       "      <td>936</td>\n",
       "    </tr>\n",
       "    <tr>\n",
       "      <th>4</th>\n",
       "      <td>4</td>\n",
       "      <td>1040</td>\n",
       "    </tr>\n",
       "    <tr>\n",
       "      <th>5</th>\n",
       "      <td>5</td>\n",
       "      <td>336</td>\n",
       "    </tr>\n",
       "    <tr>\n",
       "      <th>6</th>\n",
       "      <td>6</td>\n",
       "      <td>328</td>\n",
       "    </tr>\n",
       "  </tbody>\n",
       "</table>\n",
       "</div>"
      ],
      "text/plain": [
       "   gunler  Toplam_kaza\n",
       "0       0          971\n",
       "1       1          994\n",
       "2       2         1006\n",
       "3       3          936\n",
       "4       4         1040\n",
       "5       5          336\n",
       "6       6          328"
      ]
     },
     "execution_count": 45,
     "metadata": {},
     "output_type": "execute_result"
    }
   ],
   "source": [
    "early_date_1= pd.DataFrame({'gunler': [0, 1, 2, 3, 4, 5, 6], \n",
    "               'Toplam_kaza':              [early_date['weekday'].loc[early_date.index=='Monday'].sum(), \n",
    "                                            early_date['weekday'].loc[early_date.index=='Tuesday'].sum(),      \n",
    "                                            early_date['weekday'].loc[early_date.index=='Wednesday'].sum(), \n",
    "                                            early_date['weekday'].loc[early_date.index=='Thursday'].sum(), \n",
    "                                            early_date['weekday'].loc[early_date.index=='Friday'].sum(),\n",
    "                                            early_date['weekday'].loc[early_date.index=='Saturday'].sum(), \n",
    "                                            early_date['weekday'].loc[early_date.index=='Sunday'].sum()]})\n",
    "early_date_1\n"
   ]
  },
  {
   "cell_type": "code",
   "execution_count": 46,
   "metadata": {},
   "outputs": [
    {
     "data": {
      "image/png": "[encoded data removed]",
      "text/plain": [
       "<Figure size 720x360 with 1 Axes>"
      ]
     },
     "metadata": {
      "needs_background": "light"
     },
     "output_type": "display_data"
    }
   ],
   "source": [
    "cevirilmis_x=list(early_date_1.gunler)\n",
    "cevirilmis_y= list(early_date_1.Toplam_kaza)\n",
    "fig = plt.figure(figsize = (10, 5))\n",
    "plt.bar(cevirilmis_x, cevirilmis_y, color ='maroon',\n",
    "        width = 0.4)\n",
    " \n",
    "plt.show()"
   ]
  },
  {
   "cell_type": "code",
   "execution_count": 47,
   "metadata": {},
   "outputs": [
    {
     "data": {
      "text/html": [
       "<div>\n",
       "<style scoped>\n",
       "    .dataframe tbody tr th:only-of-type {\n",
       "        vertical-align: middle;\n",
       "    }\n",
       "\n",
       "    .dataframe tbody tr th {\n",
       "        vertical-align: top;\n",
       "    }\n",
       "\n",
       "    .dataframe thead th {\n",
       "        text-align: right;\n",
       "    }\n",
       "</style>\n",
       "<table border=\"1\" class=\"dataframe\">\n",
       "  <thead>\n",
       "    <tr style=\"text-align: right;\">\n",
       "      <th></th>\n",
       "      <th>gunler</th>\n",
       "      <th>Toplam_kaza</th>\n",
       "    </tr>\n",
       "  </thead>\n",
       "  <tbody>\n",
       "    <tr>\n",
       "      <th>0</th>\n",
       "      <td>0</td>\n",
       "      <td>1156</td>\n",
       "    </tr>\n",
       "    <tr>\n",
       "      <th>1</th>\n",
       "      <td>1</td>\n",
       "      <td>1133</td>\n",
       "    </tr>\n",
       "    <tr>\n",
       "      <th>2</th>\n",
       "      <td>2</td>\n",
       "      <td>982</td>\n",
       "    </tr>\n",
       "    <tr>\n",
       "      <th>3</th>\n",
       "      <td>3</td>\n",
       "      <td>1163</td>\n",
       "    </tr>\n",
       "    <tr>\n",
       "      <th>4</th>\n",
       "      <td>4</td>\n",
       "      <td>1222</td>\n",
       "    </tr>\n",
       "    <tr>\n",
       "      <th>5</th>\n",
       "      <td>5</td>\n",
       "      <td>449</td>\n",
       "    </tr>\n",
       "    <tr>\n",
       "      <th>6</th>\n",
       "      <td>6</td>\n",
       "      <td>478</td>\n",
       "    </tr>\n",
       "  </tbody>\n",
       "</table>\n",
       "</div>"
      ],
      "text/plain": [
       "   gunler  Toplam_kaza\n",
       "0       0         1156\n",
       "1       1         1133\n",
       "2       2          982\n",
       "3       3         1163\n",
       "4       4         1222\n",
       "5       5          449\n",
       "6       6          478"
      ]
     },
     "execution_count": 47,
     "metadata": {},
     "output_type": "execute_result"
    }
   ],
   "source": [
    "morning_1= pd.DataFrame({'gunler': [0, 1, 2, 3, 4, 5, 6], \n",
    "               'Toplam_kaza':              [morning['weekday'].loc[morning.index=='Monday'].sum(), \n",
    "                                            morning['weekday'].loc[morning.index=='Tuesday'].sum(),      \n",
    "                                            morning['weekday'].loc[morning.index=='Wednesday'].sum(), \n",
    "                                            morning['weekday'].loc[morning.index=='Thursday'].sum(), \n",
    "                                            morning['weekday'].loc[morning.index=='Friday'].sum(),\n",
    "                                            morning['weekday'].loc[morning.index=='Saturday'].sum(), \n",
    "                                            morning['weekday'].loc[morning.index=='Sunday'].sum()]})\n",
    "morning_1\n"
   ]
  },
  {
   "cell_type": "code",
   "execution_count": 48,
   "metadata": {},
   "outputs": [
    {
     "data": {
      "image/png": "[encoded data removed]",
      "text/plain": [
       "<Figure size 720x360 with 1 Axes>"
      ]
     },
     "metadata": {
      "needs_background": "light"
     },
     "output_type": "display_data"
    }
   ],
   "source": [
    "cevirilmis_e=list(morning_1.gunler)\n",
    "cevirilmis_f= list(morning_1.Toplam_kaza)\n",
    "fig = plt.figure(figsize = (10, 5))\n",
    "plt.bar(cevirilmis_e, cevirilmis_f, color ='black',\n",
    "        width = 0.4)\n",
    " \n",
    "plt.show()"
   ]
  },
  {
   "cell_type": "code",
   "execution_count": 49,
   "metadata": {},
   "outputs": [
    {
     "data": {
      "text/html": [
       "<div>\n",
       "<style scoped>\n",
       "    .dataframe tbody tr th:only-of-type {\n",
       "        vertical-align: middle;\n",
       "    }\n",
       "\n",
       "    .dataframe tbody tr th {\n",
       "        vertical-align: top;\n",
       "    }\n",
       "\n",
       "    .dataframe thead th {\n",
       "        text-align: right;\n",
       "    }\n",
       "</style>\n",
       "<table border=\"1\" class=\"dataframe\">\n",
       "  <thead>\n",
       "    <tr style=\"text-align: right;\">\n",
       "      <th></th>\n",
       "      <th>gunler</th>\n",
       "      <th>Toplam_kaza</th>\n",
       "    </tr>\n",
       "  </thead>\n",
       "  <tbody>\n",
       "    <tr>\n",
       "      <th>0</th>\n",
       "      <td>0</td>\n",
       "      <td>1684</td>\n",
       "    </tr>\n",
       "    <tr>\n",
       "      <th>1</th>\n",
       "      <td>1</td>\n",
       "      <td>2077</td>\n",
       "    </tr>\n",
       "    <tr>\n",
       "      <th>2</th>\n",
       "      <td>2</td>\n",
       "      <td>1856</td>\n",
       "    </tr>\n",
       "    <tr>\n",
       "      <th>3</th>\n",
       "      <td>3</td>\n",
       "      <td>1755</td>\n",
       "    </tr>\n",
       "    <tr>\n",
       "      <th>4</th>\n",
       "      <td>4</td>\n",
       "      <td>1984</td>\n",
       "    </tr>\n",
       "    <tr>\n",
       "      <th>5</th>\n",
       "      <td>5</td>\n",
       "      <td>912</td>\n",
       "    </tr>\n",
       "    <tr>\n",
       "      <th>6</th>\n",
       "      <td>6</td>\n",
       "      <td>717</td>\n",
       "    </tr>\n",
       "  </tbody>\n",
       "</table>\n",
       "</div>"
      ],
      "text/plain": [
       "   gunler  Toplam_kaza\n",
       "0       0         1684\n",
       "1       1         2077\n",
       "2       2         1856\n",
       "3       3         1755\n",
       "4       4         1984\n",
       "5       5          912\n",
       "6       6          717"
      ]
     },
     "execution_count": 49,
     "metadata": {},
     "output_type": "execute_result"
    }
   ],
   "source": [
    "noon_date_1= pd.DataFrame({'gunler': [0, 1, 2, 3, 4, 5, 6], \n",
    "               'Toplam_kaza':          [noon_date['weekday'].loc[noon_date.index=='Monday'].sum(), \n",
    "                                            noon_date['weekday'].loc[noon_date.index=='Tuesday'].sum(),      \n",
    "                                            noon_date['weekday'].loc[noon_date.index=='Wednesday'].sum(), \n",
    "                                            noon_date['weekday'].loc[noon_date.index=='Thursday'].sum(), \n",
    "                                            noon_date['weekday'].loc[noon_date.index=='Friday'].sum(),\n",
    "                                            noon_date['weekday'].loc[noon_date.index=='Saturday'].sum(), \n",
    "                                            noon_date['weekday'].loc[noon_date.index=='Sunday'].sum()]})\n",
    "noon_date_1\n",
    "\n"
   ]
  },
  {
   "cell_type": "code",
   "execution_count": 50,
   "metadata": {},
   "outputs": [
    {
     "data": {
      "image/png": "[encoded data removed]",
      "text/plain": [
       "<Figure size 720x360 with 1 Axes>"
      ]
     },
     "metadata": {
      "needs_background": "light"
     },
     "output_type": "display_data"
    }
   ],
   "source": [
    "cevirilmis_c=list(noon_date_1.gunler)\n",
    "cevirilmis_d= list(noon_date_1.Toplam_kaza)\n",
    "fig = plt.figure(figsize = (10, 5))\n",
    "plt.bar(cevirilmis_c, cevirilmis_d, color ='black',\n",
    "        width = 0.4)\n",
    " \n",
    "plt.show()"
   ]
  },
  {
   "cell_type": "code",
   "execution_count": 51,
   "metadata": {},
   "outputs": [
    {
     "data": {
      "text/html": [
       "<div>\n",
       "<style scoped>\n",
       "    .dataframe tbody tr th:only-of-type {\n",
       "        vertical-align: middle;\n",
       "    }\n",
       "\n",
       "    .dataframe tbody tr th {\n",
       "        vertical-align: top;\n",
       "    }\n",
       "\n",
       "    .dataframe thead th {\n",
       "        text-align: right;\n",
       "    }\n",
       "</style>\n",
       "<table border=\"1\" class=\"dataframe\">\n",
       "  <thead>\n",
       "    <tr style=\"text-align: right;\">\n",
       "      <th></th>\n",
       "      <th>gunler</th>\n",
       "      <th>Toplam_kaza</th>\n",
       "    </tr>\n",
       "  </thead>\n",
       "  <tbody>\n",
       "    <tr>\n",
       "      <th>0</th>\n",
       "      <td>0</td>\n",
       "      <td>1393</td>\n",
       "    </tr>\n",
       "    <tr>\n",
       "      <th>1</th>\n",
       "      <td>1</td>\n",
       "      <td>1601</td>\n",
       "    </tr>\n",
       "    <tr>\n",
       "      <th>2</th>\n",
       "      <td>2</td>\n",
       "      <td>1369</td>\n",
       "    </tr>\n",
       "    <tr>\n",
       "      <th>3</th>\n",
       "      <td>3</td>\n",
       "      <td>1331</td>\n",
       "    </tr>\n",
       "    <tr>\n",
       "      <th>4</th>\n",
       "      <td>4</td>\n",
       "      <td>1359</td>\n",
       "    </tr>\n",
       "    <tr>\n",
       "      <th>5</th>\n",
       "      <td>5</td>\n",
       "      <td>849</td>\n",
       "    </tr>\n",
       "    <tr>\n",
       "      <th>6</th>\n",
       "      <td>6</td>\n",
       "      <td>876</td>\n",
       "    </tr>\n",
       "  </tbody>\n",
       "</table>\n",
       "</div>"
      ],
      "text/plain": [
       "   gunler  Toplam_kaza\n",
       "0       0         1393\n",
       "1       1         1601\n",
       "2       2         1369\n",
       "3       3         1331\n",
       "4       4         1359\n",
       "5       5          849\n",
       "6       6          876"
      ]
     },
     "execution_count": 51,
     "metadata": {},
     "output_type": "execute_result"
    }
   ],
   "source": [
    "eve_date_1= pd.DataFrame({'gunler': [0, 1, 2, 3, 4, 5, 6], \n",
    "               'Toplam_kaza':              [eve_date['weekday'].loc[eve_date.index=='Monday'].sum(), \n",
    "                                            eve_date['weekday'].loc[eve_date.index=='Tuesday'].sum(),      \n",
    "                                            eve_date['weekday'].loc[eve_date.index=='Wednesday'].sum(), \n",
    "                                            eve_date['weekday'].loc[eve_date.index=='Thursday'].sum(), \n",
    "                                            eve_date['weekday'].loc[eve_date.index=='Friday'].sum(),\n",
    "                                            eve_date['weekday'].loc[eve_date.index=='Saturday'].sum(), \n",
    "                                            eve_date['weekday'].loc[eve_date.index=='Sunday'].sum()]})\n",
    "eve_date_1\n"
   ]
  },
  {
   "cell_type": "code",
   "execution_count": 52,
   "metadata": {},
   "outputs": [
    {
     "data": {
      "image/png": "[encoded data removed]",
      "text/plain": [
       "<Figure size 720x360 with 1 Axes>"
      ]
     },
     "metadata": {
      "needs_background": "light"
     },
     "output_type": "display_data"
    }
   ],
   "source": [
    "cevirilmis_a=list(eve_date_1.gunler)\n",
    "cevirilmis_b= list(eve_date_1.Toplam_kaza)\n",
    "fig = plt.figure(figsize = (10, 5))\n",
    "plt.bar(cevirilmis_a, cevirilmis_b, color ='blue',\n",
    "        width = 0.4)\n",
    " \n",
    "plt.show()"
   ]
  },
  {
   "cell_type": "code",
   "execution_count": 53,
   "metadata": {},
   "outputs": [
    {
     "data": {
      "text/html": [
       "<div>\n",
       "<style scoped>\n",
       "    .dataframe tbody tr th:only-of-type {\n",
       "        vertical-align: middle;\n",
       "    }\n",
       "\n",
       "    .dataframe tbody tr th {\n",
       "        vertical-align: top;\n",
       "    }\n",
       "\n",
       "    .dataframe thead th {\n",
       "        text-align: right;\n",
       "    }\n",
       "</style>\n",
       "<table border=\"1\" class=\"dataframe\">\n",
       "  <thead>\n",
       "    <tr style=\"text-align: right;\">\n",
       "      <th></th>\n",
       "      <th>gunler</th>\n",
       "      <th>Toplam_kaza</th>\n",
       "    </tr>\n",
       "  </thead>\n",
       "  <tbody>\n",
       "    <tr>\n",
       "      <th>0</th>\n",
       "      <td>0</td>\n",
       "      <td>505</td>\n",
       "    </tr>\n",
       "    <tr>\n",
       "      <th>1</th>\n",
       "      <td>1</td>\n",
       "      <td>523</td>\n",
       "    </tr>\n",
       "    <tr>\n",
       "      <th>2</th>\n",
       "      <td>2</td>\n",
       "      <td>470</td>\n",
       "    </tr>\n",
       "    <tr>\n",
       "      <th>3</th>\n",
       "      <td>3</td>\n",
       "      <td>463</td>\n",
       "    </tr>\n",
       "    <tr>\n",
       "      <th>4</th>\n",
       "      <td>4</td>\n",
       "      <td>566</td>\n",
       "    </tr>\n",
       "    <tr>\n",
       "      <th>5</th>\n",
       "      <td>5</td>\n",
       "      <td>495</td>\n",
       "    </tr>\n",
       "    <tr>\n",
       "      <th>6</th>\n",
       "      <td>6</td>\n",
       "      <td>511</td>\n",
       "    </tr>\n",
       "  </tbody>\n",
       "</table>\n",
       "</div>"
      ],
      "text/plain": [
       "   gunler  Toplam_kaza\n",
       "0       0          505\n",
       "1       1          523\n",
       "2       2          470\n",
       "3       3          463\n",
       "4       4          566\n",
       "5       5          495\n",
       "6       6          511"
      ]
     },
     "execution_count": 53,
     "metadata": {},
     "output_type": "execute_result"
    }
   ],
   "source": [
    "night_date_1= pd.DataFrame({'gunler': [0, 1, 2, 3, 4, 5, 6], \n",
    "                'Toplam_kaza':             [night_date['weekday'].loc[night_date.index=='Monday'].sum(), \n",
    "                                            night_date['weekday'].loc[night_date.index=='Tuesday'].sum(),      \n",
    "                                            night_date['weekday'].loc[night_date.index=='Wednesday'].sum(), \n",
    "                                            night_date['weekday'].loc[night_date.index=='Thursday'].sum(), \n",
    "                                            night_date['weekday'].loc[night_date.index=='Friday'].sum(),\n",
    "                                            night_date['weekday'].loc[night_date.index=='Saturday'].sum(), \n",
    "                                            night_date['weekday'].loc[night_date.index=='Sunday'].sum()]})\n",
    "night_date_1"
   ]
  },
  {
   "cell_type": "code",
   "execution_count": 54,
   "metadata": {},
   "outputs": [
    {
     "data": {
      "image/png": "[encoded data removed]",
      "text/plain": [
       "<Figure size 720x360 with 1 Axes>"
      ]
     },
     "metadata": {
      "needs_background": "light"
     },
     "output_type": "display_data"
    }
   ],
   "source": [
    "cevirilmis_1=list(night_date_1.gunler)\n",
    "cevirilmis_2= list(night_date_1.Toplam_kaza)\n",
    "fig = plt.figure(figsize = (10, 5))\n",
    "plt.bar(cevirilmis_1, cevirilmis_2, color ='red',\n",
    "        width = 0.4)       \n",
    " \n",
    "plt.show()"
   ]
  },
  {
   "cell_type": "markdown",
   "metadata": {},
   "source": [
    "3D graphichs"
   ]
  },
  {
   "cell_type": "code",
   "execution_count": 55,
   "metadata": {},
   "outputs": [
    {
     "name": "stdout",
     "output_type": "stream",
     "text": [
      "(14, 6)\n",
      "[[   0    0    0    0    0    0]\n",
      " [   1    1    1    1    1    1]\n",
      " [   2    2    2    2    2    2]\n",
      " [   3    3    3    3    3    3]\n",
      " [   4    4    4    4    4    4]\n",
      " [   5    5    5    5    5    5]\n",
      " [   6    6    6    6    6    6]\n",
      " [ 684  971 1156 1684 1393  505]\n",
      " [ 565  994 1133 2077 1601  523]\n",
      " [ 613 1006  982 1856 1369  470]\n",
      " [ 597  936 1163 1755 1331  463]\n",
      " [ 591 1040 1222 1984 1359  566]\n",
      " [ 749  336  449  912  849  495]\n",
      " [ 695  328  478  717  876  511]]\n"
     ]
    }
   ],
   "source": [
    "d_graphics=pd.concat([late_date_1,early_date_1,morning_1,noon_date_1,eve_date_1,night_date_1], axis=1)\n",
    "don_a= d_graphics['gunler'].to_numpy()\n",
    "#don_a= np.dtype(bytes)\n",
    "don_b= d_graphics['Toplam_kaza'].to_numpy()\n",
    "#donusturulmus= np.concatenate([don_a,don_b])\n",
    "d = np.vstack((don_a,don_b))\n",
    "print(d.shape)\n",
    "print(d)"
   ]
  },
  {
   "cell_type": "code",
   "execution_count": 56,
   "metadata": {},
   "outputs": [
    {
     "name": "stdout",
     "output_type": "stream",
     "text": [
      "[0 0 0 0 0 0 1 1 1 1 1 1 2 2 2 2 2 2 3 3 3 3 3 3 4 4 4 4 4 4 5 5 5 5 5 5 6\n",
      " 6 6 6 6 6]\n",
      "[1 2 3 4 5 6 1 2 3 4 5 6 1 2 3 4 5 6 1 2 3 4 5 6 1 2 3 4 5 6 1 2 3 4 5 6 1\n",
      " 2 3 4 5 6]\n",
      "[0. 0. 0. 0. 0. 0. 0. 0. 0. 0. 0. 0. 0. 0. 0. 0. 0. 0. 0. 0. 0. 0. 0. 0.\n",
      " 0. 0. 0. 0. 0. 0. 0. 0. 0. 0. 0. 0. 0. 0. 0. 0. 0. 0.]\n",
      "[0.5 0.5 0.5 0.5 0.5 0.5 0.5 0.5 0.5 0.5 0.5 0.5 0.5 0.5 0.5 0.5 0.5 0.5\n",
      " 0.5 0.5 0.5 0.5 0.5 0.5 0.5 0.5 0.5 0.5 0.5 0.5 0.5 0.5 0.5 0.5 0.5 0.5\n",
      " 0.5 0.5 0.5 0.5 0.5 0.5]\n",
      "[0.5 0.5 0.5 0.5 0.5 0.5 0.5 0.5 0.5 0.5 0.5 0.5 0.5 0.5 0.5 0.5 0.5 0.5\n",
      " 0.5 0.5 0.5 0.5 0.5 0.5 0.5 0.5 0.5 0.5 0.5 0.5 0.5 0.5 0.5 0.5 0.5 0.5\n",
      " 0.5 0.5 0.5 0.5 0.5 0.5]\n",
      "[ 684  971 1156 1684 1393  505  565  994 1133 2077 1601  523  613 1006\n",
      "  982 1856 1369  470  597  936 1163 1755 1331  463  591 1040 1222 1984\n",
      " 1359  566  749  336  449  912  849  495  695  328  478  717  876  511]\n",
      "42\n",
      "42\n",
      "42\n",
      "42\n",
      "42\n",
      "42\n"
     ]
    },
    {
     "data": {
      "image/png": "[encoded data removed]",
      "text/plain": [
       "<Figure size 432x288 with 1 Axes>"
      ]
     },
     "metadata": {
      "needs_background": "light"
     },
     "output_type": "display_data"
    }
   ],
   "source": [
    "a1= np.ravel(don_a)\n",
    "a2=np.ravel(don_b)\n",
    "a3=np.array([1,2,3,4,5,6,1,2,3,4,5,6,1,2,3,4,5,6,1,2,3,4,5,6,1,2,3,4,5,6,1,2,3,4,5,6,1,2,3,4,5,6]).reshape(6,7)\n",
    "\n",
    "xpos =don_a\n",
    "ypos = a3\n",
    "\n",
    "#xpos, ypos = np.meshgrid(xpos, ypos, copy=False)\n",
    "xpos = xpos.flatten()\n",
    "ypos = ypos.flatten()\n",
    "\n",
    "zpos = np.zeros(don_a.shape).flatten()\n",
    "\n",
    "dx = 0.5 * np.ones_like(zpos)\n",
    "dy = 0.5 * np.ones_like(zpos)\n",
    "dz= a2\n",
    "\n",
    "#dz = d[[don_a,don_b]].values.ravel()\n",
    "##x= günler\n",
    "##y=saat aralılar\n",
    "##z=kaza sayıları\n",
    "colors = plt.cm.jet(don_a.flatten()/float(don_a.max()))\n",
    "print(xpos)\n",
    "print(ypos)\n",
    "print(zpos)\n",
    "print(dx)\n",
    "print(dy)\n",
    "print(dz)\n",
    "\n",
    "print(len(xpos)) \n",
    "print(len(ypos))  \n",
    "print(len(zpos))  \n",
    "print(len(dx))   \n",
    "print(len(dy))    \n",
    "print(len(dz))    \n",
    "\n",
    "columns=[\"bos\",\"Mon\", \"Tues\", \"Wedne\", \"Thurs\", \"Fri\", \"Satur\", \"Sun\"]\n",
    "rows=['bos','LateNight','EarlyMorning','Morning','Noon','Eve','Night']\n",
    "\n",
    "fig = plt.figure()\n",
    "ax = fig.add_subplot(111, projection='3d')\n",
    "ax.bar3d(xpos,ypos,zpos,dx,dy,dz,color=colors)\n",
    "ax.w_xaxis.set_ticklabels(columns)\n",
    "ax.w_yaxis.set_ticklabels(rows)\n",
    "plt.rcParams['font.size'] = 7\n",
    "ax.set_xlabel('Weekdays')\n",
    "ax.set_ylabel('Hours')\n",
    "ax.set_zlabel('Accidents')\n",
    "plt.title('saat aralılarına göre haftalık dağılım', bbox={'facecolor':'blue'})\n",
    "\n",
    "#xpos,ypos,zpos= axes3d.get_test_data(0.05)\n",
    "#ax.plot_wireframe(xpos,ypos,zpos,rstride=10, cstride= 10)\n",
    "\n",
    "plt.show()"
   ]
  },
  {
   "cell_type": "code",
   "execution_count": 2,
   "metadata": {},
   "outputs": [
    {
     "ename": "NameError",
     "evalue": "name 'don_a' is not defined",
     "output_type": "error",
     "traceback": [
      "\u001b[1;31m---------------------------------------------------------------------------\u001b[0m",
      "\u001b[1;31mNameError\u001b[0m                                 Traceback (most recent call last)",
      "\u001b[1;32m~\\AppData\\Local\\Temp/ipykernel_19076/67231306.py\u001b[0m in \u001b[0;36m<module>\u001b[1;34m\u001b[0m\n\u001b[1;32m----> 1\u001b[1;33m \u001b[0ma1\u001b[0m\u001b[1;33m=\u001b[0m \u001b[0mnp\u001b[0m\u001b[1;33m.\u001b[0m\u001b[0mravel\u001b[0m\u001b[1;33m(\u001b[0m\u001b[0mdon_a\u001b[0m\u001b[1;33m)\u001b[0m\u001b[1;33m\u001b[0m\u001b[1;33m\u001b[0m\u001b[0m\n\u001b[0m\u001b[0;32m      2\u001b[0m \u001b[0ma2\u001b[0m\u001b[1;33m=\u001b[0m\u001b[0mnp\u001b[0m\u001b[1;33m.\u001b[0m\u001b[0mravel\u001b[0m\u001b[1;33m(\u001b[0m\u001b[0mdon_b\u001b[0m\u001b[1;33m)\u001b[0m\u001b[1;33m\u001b[0m\u001b[1;33m\u001b[0m\u001b[0m\n\u001b[0;32m      3\u001b[0m \u001b[0ma3\u001b[0m\u001b[1;33m=\u001b[0m\u001b[0mnp\u001b[0m\u001b[1;33m.\u001b[0m\u001b[0marray\u001b[0m\u001b[1;33m(\u001b[0m\u001b[1;33m[\u001b[0m\u001b[1;36m1\u001b[0m\u001b[1;33m,\u001b[0m\u001b[1;36m2\u001b[0m\u001b[1;33m,\u001b[0m\u001b[1;36m3\u001b[0m\u001b[1;33m,\u001b[0m\u001b[1;36m4\u001b[0m\u001b[1;33m,\u001b[0m\u001b[1;36m5\u001b[0m\u001b[1;33m,\u001b[0m\u001b[1;36m6\u001b[0m\u001b[1;33m,\u001b[0m\u001b[1;36m1\u001b[0m\u001b[1;33m,\u001b[0m\u001b[1;36m2\u001b[0m\u001b[1;33m,\u001b[0m\u001b[1;36m3\u001b[0m\u001b[1;33m,\u001b[0m\u001b[1;36m4\u001b[0m\u001b[1;33m,\u001b[0m\u001b[1;36m5\u001b[0m\u001b[1;33m,\u001b[0m\u001b[1;36m6\u001b[0m\u001b[1;33m,\u001b[0m\u001b[1;36m1\u001b[0m\u001b[1;33m,\u001b[0m\u001b[1;36m2\u001b[0m\u001b[1;33m,\u001b[0m\u001b[1;36m3\u001b[0m\u001b[1;33m,\u001b[0m\u001b[1;36m4\u001b[0m\u001b[1;33m,\u001b[0m\u001b[1;36m5\u001b[0m\u001b[1;33m,\u001b[0m\u001b[1;36m6\u001b[0m\u001b[1;33m,\u001b[0m\u001b[1;36m1\u001b[0m\u001b[1;33m,\u001b[0m\u001b[1;36m2\u001b[0m\u001b[1;33m,\u001b[0m\u001b[1;36m3\u001b[0m\u001b[1;33m,\u001b[0m\u001b[1;36m4\u001b[0m\u001b[1;33m,\u001b[0m\u001b[1;36m5\u001b[0m\u001b[1;33m,\u001b[0m\u001b[1;36m6\u001b[0m\u001b[1;33m,\u001b[0m\u001b[1;36m1\u001b[0m\u001b[1;33m,\u001b[0m\u001b[1;36m2\u001b[0m\u001b[1;33m,\u001b[0m\u001b[1;36m3\u001b[0m\u001b[1;33m,\u001b[0m\u001b[1;36m4\u001b[0m\u001b[1;33m,\u001b[0m\u001b[1;36m5\u001b[0m\u001b[1;33m,\u001b[0m\u001b[1;36m6\u001b[0m\u001b[1;33m,\u001b[0m\u001b[1;36m1\u001b[0m\u001b[1;33m,\u001b[0m\u001b[1;36m2\u001b[0m\u001b[1;33m,\u001b[0m\u001b[1;36m3\u001b[0m\u001b[1;33m,\u001b[0m\u001b[1;36m4\u001b[0m\u001b[1;33m,\u001b[0m\u001b[1;36m5\u001b[0m\u001b[1;33m,\u001b[0m\u001b[1;36m6\u001b[0m\u001b[1;33m,\u001b[0m\u001b[1;36m1\u001b[0m\u001b[1;33m,\u001b[0m\u001b[1;36m2\u001b[0m\u001b[1;33m,\u001b[0m\u001b[1;36m3\u001b[0m\u001b[1;33m,\u001b[0m\u001b[1;36m4\u001b[0m\u001b[1;33m,\u001b[0m\u001b[1;36m5\u001b[0m\u001b[1;33m,\u001b[0m\u001b[1;36m6\u001b[0m\u001b[1;33m]\u001b[0m\u001b[1;33m)\u001b[0m\u001b[1;33m.\u001b[0m\u001b[0mreshape\u001b[0m\u001b[1;33m(\u001b[0m\u001b[1;36m6\u001b[0m\u001b[1;33m,\u001b[0m\u001b[1;36m7\u001b[0m\u001b[1;33m)\u001b[0m\u001b[1;33m\u001b[0m\u001b[1;33m\u001b[0m\u001b[0m\n\u001b[0;32m      4\u001b[0m \u001b[1;33m\u001b[0m\u001b[0m\n\u001b[0;32m      5\u001b[0m \u001b[0mxpos\u001b[0m \u001b[1;33m=\u001b[0m\u001b[0mdon_a\u001b[0m\u001b[1;33m\u001b[0m\u001b[1;33m\u001b[0m\u001b[0m\n",
      "\u001b[1;31mNameError\u001b[0m: name 'don_a' is not defined"
     ]
    }
   ],
   "source": [
    "\n",
    "\n",
    "a1= np.ravel(don_a)\n",
    "a2=np.ravel(don_b)\n",
    "a3=np.array([1,2,3,4,5,6,1,2,3,4,5,6,1,2,3,4,5,6,1,2,3,4,5,6,1,2,3,4,5,6,1,2,3,4,5,6,1,2,3,4,5,6]).reshape(6,7)\n",
    "\n",
    "xpos =don_a\n",
    "ypos = a3\n",
    "\n",
    "xpos = xpos.flatten()\n",
    "ypos = ypos.flatten()\n",
    "\n",
    "zpos = np.zeros(don_a.shape).flatten()\n",
    "\n",
    "dx = 0.5 * np.ones_like(zpos)\n",
    "dy = 0.5 * np.ones_like(zpos)\n",
    "dz= a2\n",
    "\n",
    "colors = plt.cm.jet(don_a.flatten()/float(don_a.max()))\n",
    "\n",
    "\n",
    "columns=[\"bos\",\"Mon\", \"Tues\", \"Wedne\", \"Thurs\", \"Fri\", \"Satur\", \"Sun\"]\n",
    "rows=['bos','LateNight','EarlyMorning','Morning','Noon','Eve','Night']\n",
    "\n",
    "fig = plt.figure()\n",
    "ax = fig.add_subplot(111, projection='3d')\n",
    "deneme= ax.bar3d(xpos,ypos,zpos,dx,dy,dz,color=colors)\n",
    "ax.w_xaxis.set_ticklabels(columns)\n",
    "ax.w_yaxis.set_ticklabels(rows)\n",
    "plt.rcParams['font.size'] = 7\n",
    "ax.set_xlabel('Weekdays')\n",
    "ax.set_ylabel('Hours')\n",
    "ax.set_zlabel('Accidents')\n",
    "plt.title('saat aralılarına göre haftalık dağılım', bbox={'facecolor':'blue'})\n",
    "ani = animation.FuncAnimation(fig,deneme, interval=10, blit=False)\n",
    "#ax.axis('off')\n",
    "#ani.save(\"movie.mp4\")\n",
    "plt.draw()\n",
    "#video = ani.to_html5_video()\n",
    "#html = display.HTML(video)\n",
    "#display.display(html)\n",
    "#plt.close() "
   ]
  },
  {
   "cell_type": "code",
   "execution_count": 1,
   "metadata": {},
   "outputs": [],
   "source": [
    "\n",
    "import pandas as pd\n",
    "import numpy as np \n",
    "import seaborn as sns\n",
    "import matplotlib.pyplot as plt\n",
    "import datetime as dt\n",
    "import calendar \n",
    "from mpl_toolkits.mplot3d import Axes3D, proj3d\n",
    "from matplotlib import style\n",
    "from matplotlib import cm,animation\n",
    "import matplotlib.animation as animation\n",
    "from matplotlib.animation import FuncAnimation\n",
    "from IPython import display\n"
   ]
  }
 ],
 "metadata": {
  "interpreter": {
   "hash": "ad2bdc8ecc057115af97d19610ffacc2b4e99fae6737bb82f5d7fb13d2f2c186"
  },
  "kernelspec": {
   "display_name": "Python 3.9.7 ('base')",
   "language": "python",
   "name": "python3"
  },
  "language_info": {
   "codemirror_mode": {
    "name": "ipython",
    "version": 3
   },
   "file_extension": ".py",
   "mimetype": "text/x-python",
   "name": "python",
   "nbconvert_exporter": "python",
   "pygments_lexer": "ipython3",
   "version": "3.9.7"
  },
  "orig_nbformat": 4
 },
 "nbformat": 4,
 "nbformat_minor": 2
}
